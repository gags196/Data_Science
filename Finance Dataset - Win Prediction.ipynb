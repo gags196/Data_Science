{
 "cells": [
  {
   "cell_type": "code",
   "execution_count": 1,
   "id": "df607177",
   "metadata": {
    "ExecuteTime": {
     "end_time": "2025-01-27T13:32:41.899790Z",
     "start_time": "2025-01-27T13:32:39.061694Z"
    }
   },
   "outputs": [],
   "source": [
    "# Import the basic packages\n",
    "import numpy as np\n",
    "import pandas as pd\n",
    "import matplotlib.pyplot as plt\n",
    "import seaborn as sns\n",
    "import sklearn\n",
    "import warnings\n",
    "warnings.filterwarnings('ignore')\n",
    "import os\n",
    "\n",
    "# import tensorflow as tf\n",
    "# from tensorflow import keras"
   ]
  },
  {
   "cell_type": "code",
   "execution_count": 2,
   "id": "6919420d",
   "metadata": {
    "ExecuteTime": {
     "end_time": "2025-01-27T13:32:44.797986Z",
     "start_time": "2025-01-27T13:32:41.903227Z"
    }
   },
   "outputs": [
    {
     "data": {
      "text/html": [
       "<div>\n",
       "<style scoped>\n",
       "    .dataframe tbody tr th:only-of-type {\n",
       "        vertical-align: middle;\n",
       "    }\n",
       "\n",
       "    .dataframe tbody tr th {\n",
       "        vertical-align: top;\n",
       "    }\n",
       "\n",
       "    .dataframe thead th {\n",
       "        text-align: right;\n",
       "    }\n",
       "</style>\n",
       "<table border=\"1\" class=\"dataframe\">\n",
       "  <thead>\n",
       "    <tr style=\"text-align: right;\">\n",
       "      <th></th>\n",
       "      <th>Client Category</th>\n",
       "      <th>Solution Type</th>\n",
       "      <th>Deal Date</th>\n",
       "      <th>Sector</th>\n",
       "      <th>Location</th>\n",
       "      <th>VP Name</th>\n",
       "      <th>Manager Name</th>\n",
       "      <th>Deal Cost</th>\n",
       "      <th>Deal Status Code</th>\n",
       "    </tr>\n",
       "  </thead>\n",
       "  <tbody>\n",
       "    <tr>\n",
       "      <th>0</th>\n",
       "      <td>Telecom</td>\n",
       "      <td>Solution 7</td>\n",
       "      <td>2012-03-27</td>\n",
       "      <td>Sector 24</td>\n",
       "      <td>L5</td>\n",
       "      <td>Ekta Zutshi</td>\n",
       "      <td>Gopa Trilochana</td>\n",
       "      <td>150000.00</td>\n",
       "      <td>Won</td>\n",
       "    </tr>\n",
       "    <tr>\n",
       "      <th>1</th>\n",
       "      <td>Telecom</td>\n",
       "      <td>Solution 7</td>\n",
       "      <td>2012-09-25</td>\n",
       "      <td>Sector 24</td>\n",
       "      <td>L5</td>\n",
       "      <td>Ekta Zutshi</td>\n",
       "      <td>Gopa Trilochana</td>\n",
       "      <td>744705.88</td>\n",
       "      <td>Won</td>\n",
       "    </tr>\n",
       "    <tr>\n",
       "      <th>2</th>\n",
       "      <td>Internal</td>\n",
       "      <td>Solution 59</td>\n",
       "      <td>2011-08-01</td>\n",
       "      <td>Sector 20</td>\n",
       "      <td>Others</td>\n",
       "      <td>Ekta Zutshi</td>\n",
       "      <td>Russell Dahlen</td>\n",
       "      <td>60000.00</td>\n",
       "      <td>Lost</td>\n",
       "    </tr>\n",
       "    <tr>\n",
       "      <th>3</th>\n",
       "      <td>Internal</td>\n",
       "      <td>Solution 59</td>\n",
       "      <td>2011-04-28</td>\n",
       "      <td>Sector 20</td>\n",
       "      <td>Others</td>\n",
       "      <td>Ekta Zutshi</td>\n",
       "      <td>Russell Dahlen</td>\n",
       "      <td>60000.00</td>\n",
       "      <td>Lost</td>\n",
       "    </tr>\n",
       "    <tr>\n",
       "      <th>4</th>\n",
       "      <td>Internal</td>\n",
       "      <td>Solution 32</td>\n",
       "      <td>2011-06-03</td>\n",
       "      <td>Sector 20</td>\n",
       "      <td>Others</td>\n",
       "      <td>Ekta Zutshi</td>\n",
       "      <td>Russell Dahlen</td>\n",
       "      <td>80882.35</td>\n",
       "      <td>Lost</td>\n",
       "    </tr>\n",
       "    <tr>\n",
       "      <th>5</th>\n",
       "      <td>Internal</td>\n",
       "      <td>Solution 32</td>\n",
       "      <td>2011-05-24</td>\n",
       "      <td>Sector 20</td>\n",
       "      <td>Others</td>\n",
       "      <td>Ekta Zutshi</td>\n",
       "      <td>Russell Dahlen</td>\n",
       "      <td>80882.35</td>\n",
       "      <td>Lost</td>\n",
       "    </tr>\n",
       "    <tr>\n",
       "      <th>6</th>\n",
       "      <td>Internal</td>\n",
       "      <td>Solution 59</td>\n",
       "      <td>2011-11-03</td>\n",
       "      <td>Sector 2</td>\n",
       "      <td>L10</td>\n",
       "      <td>Mervin Harwood</td>\n",
       "      <td>rahul sharma</td>\n",
       "      <td>526176.47</td>\n",
       "      <td>Won</td>\n",
       "    </tr>\n",
       "    <tr>\n",
       "      <th>7</th>\n",
       "      <td>Govt</td>\n",
       "      <td>Solution 7</td>\n",
       "      <td>2012-09-17</td>\n",
       "      <td>Sector 13</td>\n",
       "      <td>L5</td>\n",
       "      <td>Sargar Deep Rao</td>\n",
       "      <td>Vidur Hukle</td>\n",
       "      <td>409705.88</td>\n",
       "      <td>Lost</td>\n",
       "    </tr>\n",
       "    <tr>\n",
       "      <th>8</th>\n",
       "      <td>Consumer Good</td>\n",
       "      <td>Solution 42</td>\n",
       "      <td>2012-04-11</td>\n",
       "      <td>Sector 12</td>\n",
       "      <td>L10</td>\n",
       "      <td>Lilli Storrs</td>\n",
       "      <td>Md. Daud</td>\n",
       "      <td>1032352.94</td>\n",
       "      <td>Won</td>\n",
       "    </tr>\n",
       "    <tr>\n",
       "      <th>9</th>\n",
       "      <td>Internal</td>\n",
       "      <td>Solution 59</td>\n",
       "      <td>2011-11-17</td>\n",
       "      <td>Sector 20</td>\n",
       "      <td>Others</td>\n",
       "      <td>Sargar Deep Rao</td>\n",
       "      <td>Hardeep Suksma</td>\n",
       "      <td>558823.53</td>\n",
       "      <td>Lost</td>\n",
       "    </tr>\n",
       "  </tbody>\n",
       "</table>\n",
       "</div>"
      ],
      "text/plain": [
       "  Client Category Solution Type  Deal Date     Sector Location  \\\n",
       "0         Telecom    Solution 7 2012-03-27  Sector 24       L5   \n",
       "1         Telecom    Solution 7 2012-09-25  Sector 24       L5   \n",
       "2        Internal   Solution 59 2011-08-01  Sector 20   Others   \n",
       "3        Internal   Solution 59 2011-04-28  Sector 20   Others   \n",
       "4        Internal   Solution 32 2011-06-03  Sector 20   Others   \n",
       "5        Internal   Solution 32 2011-05-24  Sector 20   Others   \n",
       "6        Internal   Solution 59 2011-11-03   Sector 2      L10   \n",
       "7            Govt    Solution 7 2012-09-17  Sector 13       L5   \n",
       "8   Consumer Good   Solution 42 2012-04-11  Sector 12      L10   \n",
       "9        Internal   Solution 59 2011-11-17  Sector 20   Others   \n",
       "\n",
       "           VP Name     Manager Name   Deal Cost Deal Status Code  \n",
       "0      Ekta Zutshi  Gopa Trilochana   150000.00              Won  \n",
       "1      Ekta Zutshi  Gopa Trilochana   744705.88              Won  \n",
       "2      Ekta Zutshi   Russell Dahlen    60000.00             Lost  \n",
       "3      Ekta Zutshi   Russell Dahlen    60000.00             Lost  \n",
       "4      Ekta Zutshi   Russell Dahlen    80882.35             Lost  \n",
       "5      Ekta Zutshi   Russell Dahlen    80882.35             Lost  \n",
       "6   Mervin Harwood     rahul sharma   526176.47              Won  \n",
       "7  Sargar Deep Rao      Vidur Hukle   409705.88             Lost  \n",
       "8     Lilli Storrs         Md. Daud  1032352.94              Won  \n",
       "9  Sargar Deep Rao   Hardeep Suksma   558823.53             Lost  "
      ]
     },
     "execution_count": 2,
     "metadata": {},
     "output_type": "execute_result"
    }
   ],
   "source": [
    "# import the dataset\n",
    "mydata = pd.read_excel('Win_Prediction_Data.xlsx')\n",
    "mydata.head(10)"
   ]
  },
  {
   "cell_type": "code",
   "execution_count": 3,
   "id": "7cb0528c",
   "metadata": {
    "ExecuteTime": {
     "end_time": "2025-01-27T13:32:52.067361Z",
     "start_time": "2025-01-27T13:32:52.043944Z"
    }
   },
   "outputs": [
    {
     "data": {
      "text/html": [
       "<div>\n",
       "<style scoped>\n",
       "    .dataframe tbody tr th:only-of-type {\n",
       "        vertical-align: middle;\n",
       "    }\n",
       "\n",
       "    .dataframe tbody tr th {\n",
       "        vertical-align: top;\n",
       "    }\n",
       "\n",
       "    .dataframe thead th {\n",
       "        text-align: right;\n",
       "    }\n",
       "</style>\n",
       "<table border=\"1\" class=\"dataframe\">\n",
       "  <thead>\n",
       "    <tr style=\"text-align: right;\">\n",
       "      <th></th>\n",
       "      <th>Client Category</th>\n",
       "      <th>Solution Type</th>\n",
       "      <th>Deal Date</th>\n",
       "      <th>Sector</th>\n",
       "      <th>Location</th>\n",
       "      <th>VP Name</th>\n",
       "      <th>Manager Name</th>\n",
       "      <th>Deal Cost</th>\n",
       "      <th>Deal Status Code</th>\n",
       "    </tr>\n",
       "  </thead>\n",
       "  <tbody>\n",
       "    <tr>\n",
       "      <th>0</th>\n",
       "      <td>Telecom</td>\n",
       "      <td>Solution 7</td>\n",
       "      <td>2012-03-27</td>\n",
       "      <td>Sector 24</td>\n",
       "      <td>L5</td>\n",
       "      <td>Ekta Zutshi</td>\n",
       "      <td>Gopa Trilochana</td>\n",
       "      <td>150000.00</td>\n",
       "      <td>Won</td>\n",
       "    </tr>\n",
       "    <tr>\n",
       "      <th>1</th>\n",
       "      <td>Telecom</td>\n",
       "      <td>Solution 7</td>\n",
       "      <td>2012-09-25</td>\n",
       "      <td>Sector 24</td>\n",
       "      <td>L5</td>\n",
       "      <td>Ekta Zutshi</td>\n",
       "      <td>Gopa Trilochana</td>\n",
       "      <td>744705.88</td>\n",
       "      <td>Won</td>\n",
       "    </tr>\n",
       "    <tr>\n",
       "      <th>2</th>\n",
       "      <td>Internal</td>\n",
       "      <td>Solution 59</td>\n",
       "      <td>2011-08-01</td>\n",
       "      <td>Sector 20</td>\n",
       "      <td>Others</td>\n",
       "      <td>Ekta Zutshi</td>\n",
       "      <td>Russell Dahlen</td>\n",
       "      <td>60000.00</td>\n",
       "      <td>Lost</td>\n",
       "    </tr>\n",
       "    <tr>\n",
       "      <th>3</th>\n",
       "      <td>Internal</td>\n",
       "      <td>Solution 59</td>\n",
       "      <td>2011-04-28</td>\n",
       "      <td>Sector 20</td>\n",
       "      <td>Others</td>\n",
       "      <td>Ekta Zutshi</td>\n",
       "      <td>Russell Dahlen</td>\n",
       "      <td>60000.00</td>\n",
       "      <td>Lost</td>\n",
       "    </tr>\n",
       "    <tr>\n",
       "      <th>4</th>\n",
       "      <td>Internal</td>\n",
       "      <td>Solution 32</td>\n",
       "      <td>2011-06-03</td>\n",
       "      <td>Sector 20</td>\n",
       "      <td>Others</td>\n",
       "      <td>Ekta Zutshi</td>\n",
       "      <td>Russell Dahlen</td>\n",
       "      <td>80882.35</td>\n",
       "      <td>Lost</td>\n",
       "    </tr>\n",
       "    <tr>\n",
       "      <th>5</th>\n",
       "      <td>Internal</td>\n",
       "      <td>Solution 32</td>\n",
       "      <td>2011-05-24</td>\n",
       "      <td>Sector 20</td>\n",
       "      <td>Others</td>\n",
       "      <td>Ekta Zutshi</td>\n",
       "      <td>Russell Dahlen</td>\n",
       "      <td>80882.35</td>\n",
       "      <td>Lost</td>\n",
       "    </tr>\n",
       "    <tr>\n",
       "      <th>6</th>\n",
       "      <td>Internal</td>\n",
       "      <td>Solution 59</td>\n",
       "      <td>2011-11-03</td>\n",
       "      <td>Sector 2</td>\n",
       "      <td>L10</td>\n",
       "      <td>Mervin Harwood</td>\n",
       "      <td>rahul sharma</td>\n",
       "      <td>526176.47</td>\n",
       "      <td>Won</td>\n",
       "    </tr>\n",
       "    <tr>\n",
       "      <th>7</th>\n",
       "      <td>Govt</td>\n",
       "      <td>Solution 7</td>\n",
       "      <td>2012-09-17</td>\n",
       "      <td>Sector 13</td>\n",
       "      <td>L5</td>\n",
       "      <td>Sargar Deep Rao</td>\n",
       "      <td>Vidur Hukle</td>\n",
       "      <td>409705.88</td>\n",
       "      <td>Lost</td>\n",
       "    </tr>\n",
       "    <tr>\n",
       "      <th>8</th>\n",
       "      <td>Consumer Good</td>\n",
       "      <td>Solution 42</td>\n",
       "      <td>2012-04-11</td>\n",
       "      <td>Sector 12</td>\n",
       "      <td>L10</td>\n",
       "      <td>Lilli Storrs</td>\n",
       "      <td>Md. Daud</td>\n",
       "      <td>1032352.94</td>\n",
       "      <td>Won</td>\n",
       "    </tr>\n",
       "    <tr>\n",
       "      <th>9</th>\n",
       "      <td>Internal</td>\n",
       "      <td>Solution 59</td>\n",
       "      <td>2011-11-17</td>\n",
       "      <td>Sector 20</td>\n",
       "      <td>Others</td>\n",
       "      <td>Sargar Deep Rao</td>\n",
       "      <td>Hardeep Suksma</td>\n",
       "      <td>558823.53</td>\n",
       "      <td>Lost</td>\n",
       "    </tr>\n",
       "  </tbody>\n",
       "</table>\n",
       "</div>"
      ],
      "text/plain": [
       "  Client Category Solution Type  Deal Date     Sector Location  \\\n",
       "0         Telecom    Solution 7 2012-03-27  Sector 24       L5   \n",
       "1         Telecom    Solution 7 2012-09-25  Sector 24       L5   \n",
       "2        Internal   Solution 59 2011-08-01  Sector 20   Others   \n",
       "3        Internal   Solution 59 2011-04-28  Sector 20   Others   \n",
       "4        Internal   Solution 32 2011-06-03  Sector 20   Others   \n",
       "5        Internal   Solution 32 2011-05-24  Sector 20   Others   \n",
       "6        Internal   Solution 59 2011-11-03   Sector 2      L10   \n",
       "7            Govt    Solution 7 2012-09-17  Sector 13       L5   \n",
       "8   Consumer Good   Solution 42 2012-04-11  Sector 12      L10   \n",
       "9        Internal   Solution 59 2011-11-17  Sector 20   Others   \n",
       "\n",
       "           VP Name     Manager Name   Deal Cost Deal Status Code  \n",
       "0      Ekta Zutshi  Gopa Trilochana   150000.00              Won  \n",
       "1      Ekta Zutshi  Gopa Trilochana   744705.88              Won  \n",
       "2      Ekta Zutshi   Russell Dahlen    60000.00             Lost  \n",
       "3      Ekta Zutshi   Russell Dahlen    60000.00             Lost  \n",
       "4      Ekta Zutshi   Russell Dahlen    80882.35             Lost  \n",
       "5      Ekta Zutshi   Russell Dahlen    80882.35             Lost  \n",
       "6   Mervin Harwood     rahul sharma   526176.47              Won  \n",
       "7  Sargar Deep Rao      Vidur Hukle   409705.88             Lost  \n",
       "8     Lilli Storrs         Md. Daud  1032352.94              Won  \n",
       "9  Sargar Deep Rao   Hardeep Suksma   558823.53             Lost  "
      ]
     },
     "execution_count": 3,
     "metadata": {},
     "output_type": "execute_result"
    }
   ],
   "source": [
    "newdata = mydata.copy()\n",
    "newdata.head(10)"
   ]
  },
  {
   "cell_type": "code",
   "execution_count": 4,
   "id": "48266e13",
   "metadata": {
    "ExecuteTime": {
     "end_time": "2025-01-27T13:32:54.555576Z",
     "start_time": "2025-01-27T13:32:54.540167Z"
    }
   },
   "outputs": [
    {
     "data": {
      "text/plain": [
       "Client Category     79\n",
       "Solution Type        0\n",
       "Deal Date            0\n",
       "Sector               0\n",
       "Location             0\n",
       "VP Name              0\n",
       "Manager Name         0\n",
       "Deal Cost            0\n",
       "Deal Status Code     0\n",
       "dtype: int64"
      ]
     },
     "execution_count": 4,
     "metadata": {},
     "output_type": "execute_result"
    }
   ],
   "source": [
    "# missing data\n",
    "newdata.isnull().sum()"
   ]
  },
  {
   "cell_type": "code",
   "execution_count": 5,
   "id": "f6b52b88",
   "metadata": {
    "ExecuteTime": {
     "end_time": "2025-01-27T13:32:57.948835Z",
     "start_time": "2025-01-27T13:32:57.931768Z"
    }
   },
   "outputs": [
    {
     "data": {
      "text/plain": [
       "Client Category     0.78521\n",
       "Solution Type       0.00000\n",
       "Deal Date           0.00000\n",
       "Sector              0.00000\n",
       "Location            0.00000\n",
       "VP Name             0.00000\n",
       "Manager Name        0.00000\n",
       "Deal Cost           0.00000\n",
       "Deal Status Code    0.00000\n",
       "dtype: float64"
      ]
     },
     "execution_count": 5,
     "metadata": {},
     "output_type": "execute_result"
    }
   ],
   "source": [
    "(newdata.isnull().sum() / len(newdata))*100"
   ]
  },
  {
   "cell_type": "code",
   "execution_count": 6,
   "id": "1336a863",
   "metadata": {
    "ExecuteTime": {
     "end_time": "2025-01-27T13:33:09.686548Z",
     "start_time": "2025-01-27T13:33:09.247988Z"
    }
   },
   "outputs": [
    {
     "data": {
      "image/png": "[encoded data removed]",
      "text/plain": [
       "<Figure size 640x480 with 1 Axes>"
      ]
     },
     "metadata": {},
     "output_type": "display_data"
    }
   ],
   "source": [
    "sns.heatmap(newdata.isnull(), yticklabels = False, cbar=False, cmap='rainbow')\n",
    "plt.show()"
   ]
  },
  {
   "cell_type": "code",
   "execution_count": 7,
   "id": "14b408fa",
   "metadata": {
    "ExecuteTime": {
     "end_time": "2025-01-27T13:33:14.578463Z",
     "start_time": "2025-01-27T13:33:14.518149Z"
    }
   },
   "outputs": [
    {
     "name": "stdout",
     "output_type": "stream",
     "text": [
      "<class 'pandas.core.frame.DataFrame'>\n",
      "RangeIndex: 10061 entries, 0 to 10060\n",
      "Data columns (total 9 columns):\n",
      " #   Column            Non-Null Count  Dtype         \n",
      "---  ------            --------------  -----         \n",
      " 0   Client Category   9982 non-null   object        \n",
      " 1   Solution Type     10061 non-null  object        \n",
      " 2   Deal Date         10061 non-null  datetime64[ns]\n",
      " 3   Sector            10061 non-null  object        \n",
      " 4   Location          10061 non-null  object        \n",
      " 5   VP Name           10061 non-null  object        \n",
      " 6   Manager Name      10061 non-null  object        \n",
      " 7   Deal Cost         10061 non-null  float64       \n",
      " 8   Deal Status Code  10061 non-null  object        \n",
      "dtypes: datetime64[ns](1), float64(1), object(7)\n",
      "memory usage: 707.5+ KB\n"
     ]
    }
   ],
   "source": [
    "newdata.info()"
   ]
  },
  {
   "cell_type": "code",
   "execution_count": 8,
   "id": "e5a2c497",
   "metadata": {
    "ExecuteTime": {
     "end_time": "2025-01-27T13:33:18.590217Z",
     "start_time": "2025-01-27T13:33:18.580745Z"
    }
   },
   "outputs": [],
   "source": [
    "# handling missing value\n",
    "Client_Category = newdata['Client Category'].value_counts()"
   ]
  },
  {
   "cell_type": "code",
   "execution_count": 9,
   "id": "763f08ab",
   "metadata": {
    "ExecuteTime": {
     "end_time": "2025-01-27T13:33:19.886929Z",
     "start_time": "2025-01-27T13:33:19.874730Z"
    }
   },
   "outputs": [
    {
     "data": {
      "text/plain": [
       "Client Category\n",
       "Others                   1763\n",
       "Internal                 1454\n",
       "Services_based           1202\n",
       "Tech                      913\n",
       "Domestic Public Bank      419\n",
       "International Bank        376\n",
       "Consulting                352\n",
       "Finance                   339\n",
       "Telecom                   327\n",
       "Power ind                 264\n",
       "Domestic Private Bank     262\n",
       "Insurance                 247\n",
       "Consumer Good             185\n",
       "Automobiles               178\n",
       "Infrastructure            152\n",
       "Domestic Bank             134\n",
       "Retail_market             126\n",
       "Govt                      121\n",
       "Hospitality               119\n",
       "Manufacturing             117\n",
       "Pharma                    110\n",
       "Healthcare                 99\n",
       "Electronics                81\n",
       "Media_Journal              71\n",
       "Industries                 66\n",
       "Research Development       63\n",
       "Energy                     57\n",
       "Knowledge                  50\n",
       "Management                 43\n",
       "Govt Bank Special          41\n",
       "Payment                    40\n",
       "Energy                     37\n",
       "e-commerce                 32\n",
       "Airpline                   27\n",
       "Holding                    25\n",
       "International Org          25\n",
       "Logistics                  20\n",
       "Real Estate                19\n",
       "Share_market               14\n",
       "Tax_audit                   7\n",
       "Medical                     5\n",
       "Name: count, dtype: int64"
      ]
     },
     "execution_count": 9,
     "metadata": {},
     "output_type": "execute_result"
    }
   ],
   "source": [
    "Client_Category"
   ]
  },
  {
   "cell_type": "code",
   "execution_count": 10,
   "id": "651e0b16",
   "metadata": {
    "ExecuteTime": {
     "end_time": "2025-01-27T13:33:56.612344Z",
     "start_time": "2025-01-27T13:33:56.603006Z"
    }
   },
   "outputs": [],
   "source": [
    "newdata['Client Category'] = newdata['Client Category'].fillna('Others')"
   ]
  },
  {
   "cell_type": "code",
   "execution_count": 11,
   "id": "72b3b1ed",
   "metadata": {
    "ExecuteTime": {
     "end_time": "2025-01-27T13:33:59.675615Z",
     "start_time": "2025-01-27T13:33:59.514801Z"
    }
   },
   "outputs": [
    {
     "data": {
      "image/png": "[encoded data removed]",
      "text/plain": [
       "<Figure size 640x480 with 1 Axes>"
      ]
     },
     "metadata": {},
     "output_type": "display_data"
    }
   ],
   "source": [
    "sns.heatmap(newdata.isnull(), yticklabels = False, cbar=False, cmap='rainbow')\n",
    "plt.show()"
   ]
  },
  {
   "cell_type": "code",
   "execution_count": 12,
   "id": "b720cf10",
   "metadata": {
    "ExecuteTime": {
     "end_time": "2025-01-27T13:34:03.140521Z",
     "start_time": "2025-01-27T13:34:03.124288Z"
    }
   },
   "outputs": [
    {
     "name": "stdout",
     "output_type": "stream",
     "text": [
      "<class 'pandas.core.frame.DataFrame'>\n",
      "RangeIndex: 10061 entries, 0 to 10060\n",
      "Data columns (total 9 columns):\n",
      " #   Column            Non-Null Count  Dtype         \n",
      "---  ------            --------------  -----         \n",
      " 0   Client Category   10061 non-null  object        \n",
      " 1   Solution Type     10061 non-null  object        \n",
      " 2   Deal Date         10061 non-null  datetime64[ns]\n",
      " 3   Sector            10061 non-null  object        \n",
      " 4   Location          10061 non-null  object        \n",
      " 5   VP Name           10061 non-null  object        \n",
      " 6   Manager Name      10061 non-null  object        \n",
      " 7   Deal Cost         10061 non-null  float64       \n",
      " 8   Deal Status Code  10061 non-null  object        \n",
      "dtypes: datetime64[ns](1), float64(1), object(7)\n",
      "memory usage: 707.5+ KB\n"
     ]
    }
   ],
   "source": [
    "newdata.info()"
   ]
  },
  {
   "cell_type": "code",
   "execution_count": 13,
   "id": "b5286085",
   "metadata": {
    "ExecuteTime": {
     "end_time": "2025-01-27T13:34:06.063028Z",
     "start_time": "2025-01-27T13:34:06.024659Z"
    }
   },
   "outputs": [
    {
     "data": {
      "text/html": [
       "<div>\n",
       "<style scoped>\n",
       "    .dataframe tbody tr th:only-of-type {\n",
       "        vertical-align: middle;\n",
       "    }\n",
       "\n",
       "    .dataframe tbody tr th {\n",
       "        vertical-align: top;\n",
       "    }\n",
       "\n",
       "    .dataframe thead th {\n",
       "        text-align: right;\n",
       "    }\n",
       "</style>\n",
       "<table border=\"1\" class=\"dataframe\">\n",
       "  <thead>\n",
       "    <tr style=\"text-align: right;\">\n",
       "      <th></th>\n",
       "      <th>Client Category</th>\n",
       "      <th>Solution Type</th>\n",
       "      <th>Sector</th>\n",
       "      <th>Location</th>\n",
       "      <th>VP Name</th>\n",
       "      <th>Manager Name</th>\n",
       "      <th>Deal Status Code</th>\n",
       "    </tr>\n",
       "  </thead>\n",
       "  <tbody>\n",
       "    <tr>\n",
       "      <th>count</th>\n",
       "      <td>10061</td>\n",
       "      <td>10061</td>\n",
       "      <td>10061</td>\n",
       "      <td>10061</td>\n",
       "      <td>10061</td>\n",
       "      <td>10061</td>\n",
       "      <td>10061</td>\n",
       "    </tr>\n",
       "    <tr>\n",
       "      <th>unique</th>\n",
       "      <td>41</td>\n",
       "      <td>67</td>\n",
       "      <td>25</td>\n",
       "      <td>13</td>\n",
       "      <td>43</td>\n",
       "      <td>278</td>\n",
       "      <td>2</td>\n",
       "    </tr>\n",
       "    <tr>\n",
       "      <th>top</th>\n",
       "      <td>Others</td>\n",
       "      <td>Solution 32</td>\n",
       "      <td>Sector 23</td>\n",
       "      <td>L10</td>\n",
       "      <td>Mervin Harwood</td>\n",
       "      <td>Molly Eakes</td>\n",
       "      <td>Lost</td>\n",
       "    </tr>\n",
       "    <tr>\n",
       "      <th>freq</th>\n",
       "      <td>1842</td>\n",
       "      <td>1439</td>\n",
       "      <td>2693</td>\n",
       "      <td>3360</td>\n",
       "      <td>1166</td>\n",
       "      <td>323</td>\n",
       "      <td>6306</td>\n",
       "    </tr>\n",
       "  </tbody>\n",
       "</table>\n",
       "</div>"
      ],
      "text/plain": [
       "       Client Category Solution Type     Sector Location         VP Name  \\\n",
       "count            10061         10061      10061    10061           10061   \n",
       "unique              41            67         25       13              43   \n",
       "top             Others   Solution 32  Sector 23      L10  Mervin Harwood   \n",
       "freq              1842          1439       2693     3360            1166   \n",
       "\n",
       "       Manager Name Deal Status Code  \n",
       "count         10061            10061  \n",
       "unique          278                2  \n",
       "top     Molly Eakes             Lost  \n",
       "freq            323             6306  "
      ]
     },
     "execution_count": 13,
     "metadata": {},
     "output_type": "execute_result"
    }
   ],
   "source": [
    "# Describe the object data type \n",
    "sumcat = newdata.describe(include='O')\n",
    "sumcat"
   ]
  },
  {
   "cell_type": "code",
   "execution_count": 14,
   "id": "281caeff",
   "metadata": {
    "ExecuteTime": {
     "end_time": "2025-01-27T13:34:11.896997Z",
     "start_time": "2025-01-27T13:34:11.883507Z"
    }
   },
   "outputs": [
    {
     "data": {
      "text/plain": [
       "Deal Status Code\n",
       "Lost    6306\n",
       "Won     3755\n",
       "Name: count, dtype: int64"
      ]
     },
     "execution_count": 14,
     "metadata": {},
     "output_type": "execute_result"
    }
   ],
   "source": [
    "newdata['Deal Status Code'].value_counts()"
   ]
  },
  {
   "cell_type": "code",
   "execution_count": 15,
   "id": "86f1fd95",
   "metadata": {
    "ExecuteTime": {
     "end_time": "2025-01-27T13:34:12.784932Z",
     "start_time": "2025-01-27T13:34:12.775590Z"
    }
   },
   "outputs": [],
   "source": [
    "Client_Category_index = newdata['Client Category'].value_counts().index"
   ]
  },
  {
   "cell_type": "code",
   "execution_count": 16,
   "id": "d890c3ee",
   "metadata": {
    "ExecuteTime": {
     "end_time": "2025-01-27T13:34:13.581574Z",
     "start_time": "2025-01-27T13:34:13.572228Z"
    }
   },
   "outputs": [
    {
     "data": {
      "text/plain": [
       "Index(['Others', 'Internal', 'Services_based', 'Tech', 'Domestic Public Bank',\n",
       "       'International Bank', 'Consulting', 'Finance', 'Telecom', 'Power ind',\n",
       "       'Domestic Private Bank', 'Insurance', 'Consumer Good', 'Automobiles',\n",
       "       'Infrastructure', 'Domestic Bank', 'Retail_market', 'Govt',\n",
       "       'Hospitality', 'Manufacturing', 'Pharma', 'Healthcare', 'Electronics',\n",
       "       'Media_Journal', 'Industries', 'Research Development', 'Energy',\n",
       "       'Knowledge', 'Management', 'Govt Bank Special', 'Payment', 'Energy ',\n",
       "       'e-commerce', 'Airpline', 'Holding', 'International Org', 'Logistics',\n",
       "       'Real Estate', 'Share_market', 'Tax_audit', 'Medical '],\n",
       "      dtype='object', name='Client Category')"
      ]
     },
     "execution_count": 16,
     "metadata": {},
     "output_type": "execute_result"
    }
   ],
   "source": [
    "Client_Category_index"
   ]
  },
  {
   "cell_type": "code",
   "execution_count": 17,
   "id": "fb23bd64",
   "metadata": {
    "ExecuteTime": {
     "end_time": "2025-01-27T13:34:15.510452Z",
     "start_time": "2025-01-27T13:34:15.404547Z"
    }
   },
   "outputs": [
    {
     "data": {
      "image/png": "[encoded data removed]",
      "text/plain": [
       "<Figure size 640x480 with 1 Axes>"
      ]
     },
     "metadata": {},
     "output_type": "display_data"
    }
   ],
   "source": [
    "plt.pie(Client_Category[:5], labels=Client_Category_index[:5], autopct = '%1.2f%%')\n",
    "plt.show()"
   ]
  },
  {
   "cell_type": "code",
   "execution_count": 18,
   "id": "46132a26",
   "metadata": {},
   "outputs": [
    {
     "data": {
      "text/plain": [
       "<AxesSubplot:>"
      ]
     },
     "execution_count": 18,
     "metadata": {},
     "output_type": "execute_result"
    },
    {
     "data": {
      "image/png": "[encoded data removed]",
      "text/plain": [
       "<Figure size 432x288 with 1 Axes>"
      ]
     },
     "metadata": {
      "needs_background": "light"
     },
     "output_type": "display_data"
    }
   ],
   "source": [
    "Client_Category[:10].plot(kind='barh')"
   ]
  },
  {
   "cell_type": "code",
   "execution_count": 19,
   "id": "04fa7018",
   "metadata": {},
   "outputs": [],
   "source": [
    "VP_Name_index = newdata['VP Name'].value_counts().index"
   ]
  },
  {
   "cell_type": "code",
   "execution_count": 20,
   "id": "64f17207",
   "metadata": {},
   "outputs": [
    {
     "data": {
      "text/plain": [
       "Index(['Mervin Harwood', 'Ankita Aggarwal', 'Sargar Deep Rao',\n",
       "       'Long Bergstrom', 'Mangesh K. Singh', 'Rosanna Maynez', 'Ekta Zutshi',\n",
       "       'Rahul Bajpai', 'neeraj kumar', 'Son Mcconnaughy', 'som dutt',\n",
       "       'Hardeep Suksma', 'Brendon Wycoff', 'Clinton Mani', 'Saurabh Singh',\n",
       "       'Jewell Tunstall', 'Rudraksh Sharma', 'Gopa Trilochana',\n",
       "       'Russell Dahlen', 'Molly Eakes', 'Alam Syed', 'Gaurav Sameria',\n",
       "       'Varsha Arora', 'Gayle Molter', 'Vidur Hukle', 'Earline Langton',\n",
       "       'Manpreet Singh', 'Mayank Mewar', 'Marcella Mo', 'Rahul Kocher',\n",
       "       'Man Suddeth', 'Jitendra Choudhary', 'Prashant Rawat', 'Lilli Storrs',\n",
       "       'Vikram Rawat', 'Kamelesh Srinivasan', 'Dennis Faux', 'Visvajeet Das',\n",
       "       'Waylon Mulder', 'P. Somya', 'Kirk Hofmeister', 'Sarthak Batra',\n",
       "       'md. afsar'],\n",
       "      dtype='object')"
      ]
     },
     "execution_count": 20,
     "metadata": {},
     "output_type": "execute_result"
    }
   ],
   "source": [
    "VP_Name_index"
   ]
  },
  {
   "cell_type": "code",
   "execution_count": 21,
   "id": "242e9f96",
   "metadata": {},
   "outputs": [
    {
     "data": {
      "text/plain": [
       "Mervin Harwood         1166\n",
       "Ankita Aggarwal        1143\n",
       "Sargar Deep Rao         956\n",
       "Long Bergstrom          921\n",
       "Mangesh K. Singh        812\n",
       "Rosanna Maynez          662\n",
       "Ekta Zutshi             550\n",
       "Rahul Bajpai            523\n",
       "neeraj kumar            471\n",
       "Son Mcconnaughy         232\n",
       "som dutt                220\n",
       "Hardeep Suksma          208\n",
       "Brendon Wycoff          189\n",
       "Clinton Mani            184\n",
       "Saurabh Singh           176\n",
       "Jewell Tunstall         156\n",
       "Rudraksh Sharma         147\n",
       "Gopa Trilochana         136\n",
       "Russell Dahlen          133\n",
       "Molly Eakes             126\n",
       "Alam Syed               126\n",
       "Gaurav Sameria          114\n",
       "Varsha Arora            104\n",
       "Gayle Molter            104\n",
       "Vidur Hukle             100\n",
       "Earline Langton          82\n",
       "Manpreet Singh           46\n",
       "Mayank Mewar             41\n",
       "Marcella Mo              32\n",
       "Rahul Kocher             32\n",
       "Man Suddeth              29\n",
       "Jitendra Choudhary       28\n",
       "Prashant Rawat           27\n",
       "Lilli Storrs             26\n",
       "Vikram Rawat             17\n",
       "Kamelesh Srinivasan      15\n",
       "Dennis Faux              13\n",
       "Visvajeet Das             3\n",
       "Waylon Mulder             3\n",
       "P. Somya                  2\n",
       "Kirk Hofmeister           2\n",
       "Sarthak Batra             2\n",
       "md. afsar                 2\n",
       "Name: VP Name, dtype: int64"
      ]
     },
     "execution_count": 21,
     "metadata": {},
     "output_type": "execute_result"
    }
   ],
   "source": [
    "VP_Name = newdata['VP Name'].value_counts()\n",
    "VP_Name"
   ]
  },
  {
   "cell_type": "code",
   "execution_count": 22,
   "id": "bdc13056",
   "metadata": {},
   "outputs": [
    {
     "data": {
      "image/png": "[encoded data removed]",
      "text/plain": [
       "<Figure size 432x288 with 1 Axes>"
      ]
     },
     "metadata": {},
     "output_type": "display_data"
    }
   ],
   "source": [
    "plt.pie(VP_Name[:5], labels=VP_Name_index[:5], autopct = '%1.2f%%')\n",
    "plt.show()"
   ]
  },
  {
   "cell_type": "code",
   "execution_count": 23,
   "id": "f08da9b9",
   "metadata": {},
   "outputs": [],
   "source": [
    "# We have to check the relationship between independent variable vs Dep variables"
   ]
  },
  {
   "cell_type": "code",
   "execution_count": 24,
   "id": "271d9201",
   "metadata": {},
   "outputs": [
    {
     "data": {
      "text/html": [
       "<div>\n",
       "<style scoped>\n",
       "    .dataframe tbody tr th:only-of-type {\n",
       "        vertical-align: middle;\n",
       "    }\n",
       "\n",
       "    .dataframe tbody tr th {\n",
       "        vertical-align: top;\n",
       "    }\n",
       "\n",
       "    .dataframe thead th {\n",
       "        text-align: right;\n",
       "    }\n",
       "</style>\n",
       "<table border=\"1\" class=\"dataframe\">\n",
       "  <thead>\n",
       "    <tr style=\"text-align: right;\">\n",
       "      <th></th>\n",
       "      <th>Client Category</th>\n",
       "      <th>Solution Type</th>\n",
       "      <th>Deal Date</th>\n",
       "      <th>Sector</th>\n",
       "      <th>Location</th>\n",
       "      <th>VP Name</th>\n",
       "      <th>Manager Name</th>\n",
       "      <th>Deal Cost</th>\n",
       "      <th>Deal Status Code</th>\n",
       "    </tr>\n",
       "  </thead>\n",
       "  <tbody>\n",
       "    <tr>\n",
       "      <th>0</th>\n",
       "      <td>Telecom</td>\n",
       "      <td>Solution 7</td>\n",
       "      <td>2012-03-27</td>\n",
       "      <td>Sector 24</td>\n",
       "      <td>L5</td>\n",
       "      <td>Ekta Zutshi</td>\n",
       "      <td>Gopa Trilochana</td>\n",
       "      <td>150000.00</td>\n",
       "      <td>Won</td>\n",
       "    </tr>\n",
       "    <tr>\n",
       "      <th>1</th>\n",
       "      <td>Telecom</td>\n",
       "      <td>Solution 7</td>\n",
       "      <td>2012-09-25</td>\n",
       "      <td>Sector 24</td>\n",
       "      <td>L5</td>\n",
       "      <td>Ekta Zutshi</td>\n",
       "      <td>Gopa Trilochana</td>\n",
       "      <td>744705.88</td>\n",
       "      <td>Won</td>\n",
       "    </tr>\n",
       "  </tbody>\n",
       "</table>\n",
       "</div>"
      ],
      "text/plain": [
       "  Client Category Solution Type  Deal Date     Sector Location      VP Name  \\\n",
       "0         Telecom    Solution 7 2012-03-27  Sector 24       L5  Ekta Zutshi   \n",
       "1         Telecom    Solution 7 2012-09-25  Sector 24       L5  Ekta Zutshi   \n",
       "\n",
       "      Manager Name  Deal Cost Deal Status Code  \n",
       "0  Gopa Trilochana  150000.00              Won  \n",
       "1  Gopa Trilochana  744705.88              Won  "
      ]
     },
     "execution_count": 24,
     "metadata": {},
     "output_type": "execute_result"
    }
   ],
   "source": [
    "newdata.head(2)"
   ]
  },
  {
   "cell_type": "code",
   "execution_count": 25,
   "id": "4f34e29c",
   "metadata": {},
   "outputs": [
    {
     "data": {
      "text/plain": [
       "Index(['Client Category', 'Solution Type', 'Deal Date', 'Sector', 'Location',\n",
       "       'VP Name', 'Manager Name', 'Deal Cost', 'Deal Status Code'],\n",
       "      dtype='object')"
      ]
     },
     "execution_count": 25,
     "metadata": {},
     "output_type": "execute_result"
    }
   ],
   "source": [
    "newdata.columns"
   ]
  },
  {
   "cell_type": "code",
   "execution_count": 26,
   "id": "93c36852",
   "metadata": {},
   "outputs": [],
   "source": [
    "rel_client_cat = newdata[['Client Category',\n",
    "                     'Deal Status Code']].groupby(['Client Category',\n",
    "                                                   'Deal Status Code']).size().reset_index().rename(columns={0:'Deal Status Code'})"
   ]
  },
  {
   "cell_type": "code",
   "execution_count": 27,
   "id": "59cef9a0",
   "metadata": {},
   "outputs": [
    {
     "data": {
      "text/html": [
       "<div>\n",
       "<style scoped>\n",
       "    .dataframe tbody tr th:only-of-type {\n",
       "        vertical-align: middle;\n",
       "    }\n",
       "\n",
       "    .dataframe tbody tr th {\n",
       "        vertical-align: top;\n",
       "    }\n",
       "\n",
       "    .dataframe thead th {\n",
       "        text-align: right;\n",
       "    }\n",
       "</style>\n",
       "<table border=\"1\" class=\"dataframe\">\n",
       "  <thead>\n",
       "    <tr style=\"text-align: right;\">\n",
       "      <th></th>\n",
       "      <th>Client Category</th>\n",
       "      <th>Deal Status Code</th>\n",
       "      <th>Deal Status Code</th>\n",
       "    </tr>\n",
       "  </thead>\n",
       "  <tbody>\n",
       "    <tr>\n",
       "      <th>0</th>\n",
       "      <td>Airpline</td>\n",
       "      <td>Lost</td>\n",
       "      <td>22</td>\n",
       "    </tr>\n",
       "    <tr>\n",
       "      <th>1</th>\n",
       "      <td>Airpline</td>\n",
       "      <td>Won</td>\n",
       "      <td>5</td>\n",
       "    </tr>\n",
       "    <tr>\n",
       "      <th>2</th>\n",
       "      <td>Automobiles</td>\n",
       "      <td>Lost</td>\n",
       "      <td>112</td>\n",
       "    </tr>\n",
       "    <tr>\n",
       "      <th>3</th>\n",
       "      <td>Automobiles</td>\n",
       "      <td>Won</td>\n",
       "      <td>66</td>\n",
       "    </tr>\n",
       "    <tr>\n",
       "      <th>4</th>\n",
       "      <td>Consulting</td>\n",
       "      <td>Lost</td>\n",
       "      <td>182</td>\n",
       "    </tr>\n",
       "    <tr>\n",
       "      <th>...</th>\n",
       "      <td>...</td>\n",
       "      <td>...</td>\n",
       "      <td>...</td>\n",
       "    </tr>\n",
       "    <tr>\n",
       "      <th>77</th>\n",
       "      <td>Tech</td>\n",
       "      <td>Won</td>\n",
       "      <td>313</td>\n",
       "    </tr>\n",
       "    <tr>\n",
       "      <th>78</th>\n",
       "      <td>Telecom</td>\n",
       "      <td>Lost</td>\n",
       "      <td>192</td>\n",
       "    </tr>\n",
       "    <tr>\n",
       "      <th>79</th>\n",
       "      <td>Telecom</td>\n",
       "      <td>Won</td>\n",
       "      <td>135</td>\n",
       "    </tr>\n",
       "    <tr>\n",
       "      <th>80</th>\n",
       "      <td>e-commerce</td>\n",
       "      <td>Lost</td>\n",
       "      <td>20</td>\n",
       "    </tr>\n",
       "    <tr>\n",
       "      <th>81</th>\n",
       "      <td>e-commerce</td>\n",
       "      <td>Won</td>\n",
       "      <td>12</td>\n",
       "    </tr>\n",
       "  </tbody>\n",
       "</table>\n",
       "<p>82 rows × 3 columns</p>\n",
       "</div>"
      ],
      "text/plain": [
       "   Client Category  Deal Status Code  Deal Status Code\n",
       "0         Airpline              Lost                22\n",
       "1         Airpline               Won                 5\n",
       "2      Automobiles              Lost               112\n",
       "3      Automobiles               Won                66\n",
       "4       Consulting              Lost               182\n",
       "..             ...               ...               ...\n",
       "77            Tech               Won               313\n",
       "78         Telecom              Lost               192\n",
       "79         Telecom               Won               135\n",
       "80      e-commerce              Lost                20\n",
       "81      e-commerce               Won                12\n",
       "\n",
       "[82 rows x 3 columns]"
      ]
     },
     "execution_count": 27,
     "metadata": {},
     "output_type": "execute_result"
    }
   ],
   "source": [
    "rel_client_cat"
   ]
  },
  {
   "cell_type": "code",
   "execution_count": 28,
   "id": "84968b35",
   "metadata": {},
   "outputs": [],
   "source": [
    "Solution_Type_cat = newdata[['Solution Type',\n",
    "                     'Deal Status Code']].groupby(['Solution Type',\n",
    "                                                   'Deal Status Code']).size().reset_index().rename(columns={0:'Deal Status Code'})"
   ]
  },
  {
   "cell_type": "code",
   "execution_count": 29,
   "id": "f828473c",
   "metadata": {},
   "outputs": [
    {
     "data": {
      "text/html": [
       "<div>\n",
       "<style scoped>\n",
       "    .dataframe tbody tr th:only-of-type {\n",
       "        vertical-align: middle;\n",
       "    }\n",
       "\n",
       "    .dataframe tbody tr th {\n",
       "        vertical-align: top;\n",
       "    }\n",
       "\n",
       "    .dataframe thead th {\n",
       "        text-align: right;\n",
       "    }\n",
       "</style>\n",
       "<table border=\"1\" class=\"dataframe\">\n",
       "  <thead>\n",
       "    <tr style=\"text-align: right;\">\n",
       "      <th></th>\n",
       "      <th>Solution Type</th>\n",
       "      <th>Deal Status Code</th>\n",
       "      <th>Deal Status Code</th>\n",
       "    </tr>\n",
       "  </thead>\n",
       "  <tbody>\n",
       "    <tr>\n",
       "      <th>0</th>\n",
       "      <td>Solution 1</td>\n",
       "      <td>Lost</td>\n",
       "      <td>2</td>\n",
       "    </tr>\n",
       "    <tr>\n",
       "      <th>1</th>\n",
       "      <td>Solution 1</td>\n",
       "      <td>Won</td>\n",
       "      <td>3</td>\n",
       "    </tr>\n",
       "    <tr>\n",
       "      <th>2</th>\n",
       "      <td>Solution 10</td>\n",
       "      <td>Lost</td>\n",
       "      <td>690</td>\n",
       "    </tr>\n",
       "    <tr>\n",
       "      <th>3</th>\n",
       "      <td>Solution 10</td>\n",
       "      <td>Won</td>\n",
       "      <td>326</td>\n",
       "    </tr>\n",
       "    <tr>\n",
       "      <th>4</th>\n",
       "      <td>Solution 11</td>\n",
       "      <td>Lost</td>\n",
       "      <td>88</td>\n",
       "    </tr>\n",
       "    <tr>\n",
       "      <th>...</th>\n",
       "      <td>...</td>\n",
       "      <td>...</td>\n",
       "      <td>...</td>\n",
       "    </tr>\n",
       "    <tr>\n",
       "      <th>111</th>\n",
       "      <td>Solution 7</td>\n",
       "      <td>Won</td>\n",
       "      <td>62</td>\n",
       "    </tr>\n",
       "    <tr>\n",
       "      <th>112</th>\n",
       "      <td>Solution 8</td>\n",
       "      <td>Lost</td>\n",
       "      <td>190</td>\n",
       "    </tr>\n",
       "    <tr>\n",
       "      <th>113</th>\n",
       "      <td>Solution 8</td>\n",
       "      <td>Won</td>\n",
       "      <td>184</td>\n",
       "    </tr>\n",
       "    <tr>\n",
       "      <th>114</th>\n",
       "      <td>Solution 9</td>\n",
       "      <td>Lost</td>\n",
       "      <td>1018</td>\n",
       "    </tr>\n",
       "    <tr>\n",
       "      <th>115</th>\n",
       "      <td>Solution 9</td>\n",
       "      <td>Won</td>\n",
       "      <td>400</td>\n",
       "    </tr>\n",
       "  </tbody>\n",
       "</table>\n",
       "<p>116 rows × 3 columns</p>\n",
       "</div>"
      ],
      "text/plain": [
       "    Solution Type  Deal Status Code  Deal Status Code\n",
       "0      Solution 1              Lost                 2\n",
       "1      Solution 1               Won                 3\n",
       "2     Solution 10              Lost               690\n",
       "3     Solution 10               Won               326\n",
       "4     Solution 11              Lost                88\n",
       "..            ...               ...               ...\n",
       "111    Solution 7               Won                62\n",
       "112    Solution 8              Lost               190\n",
       "113    Solution 8               Won               184\n",
       "114    Solution 9              Lost              1018\n",
       "115    Solution 9               Won               400\n",
       "\n",
       "[116 rows x 3 columns]"
      ]
     },
     "execution_count": 29,
     "metadata": {},
     "output_type": "execute_result"
    }
   ],
   "source": [
    "Solution_Type_cat"
   ]
  },
  {
   "cell_type": "code",
   "execution_count": 30,
   "id": "e94e0df3",
   "metadata": {},
   "outputs": [],
   "source": [
    "VP_Name_cat = newdata[['VP Name',\n",
    "                     'Deal Status Code']].groupby(['VP Name',\n",
    "                                                   'Deal Status Code']).size().reset_index().rename(columns={0:'Deal Status Code'})"
   ]
  },
  {
   "cell_type": "code",
   "execution_count": 31,
   "id": "acfa6a1b",
   "metadata": {},
   "outputs": [
    {
     "data": {
      "text/html": [
       "<div>\n",
       "<style scoped>\n",
       "    .dataframe tbody tr th:only-of-type {\n",
       "        vertical-align: middle;\n",
       "    }\n",
       "\n",
       "    .dataframe tbody tr th {\n",
       "        vertical-align: top;\n",
       "    }\n",
       "\n",
       "    .dataframe thead th {\n",
       "        text-align: right;\n",
       "    }\n",
       "</style>\n",
       "<table border=\"1\" class=\"dataframe\">\n",
       "  <thead>\n",
       "    <tr style=\"text-align: right;\">\n",
       "      <th></th>\n",
       "      <th>VP Name</th>\n",
       "      <th>Deal Status Code</th>\n",
       "      <th>Deal Status Code</th>\n",
       "    </tr>\n",
       "  </thead>\n",
       "  <tbody>\n",
       "    <tr>\n",
       "      <th>0</th>\n",
       "      <td>Alam Syed</td>\n",
       "      <td>Lost</td>\n",
       "      <td>62</td>\n",
       "    </tr>\n",
       "    <tr>\n",
       "      <th>1</th>\n",
       "      <td>Alam Syed</td>\n",
       "      <td>Won</td>\n",
       "      <td>64</td>\n",
       "    </tr>\n",
       "    <tr>\n",
       "      <th>2</th>\n",
       "      <td>Ankita Aggarwal</td>\n",
       "      <td>Lost</td>\n",
       "      <td>866</td>\n",
       "    </tr>\n",
       "    <tr>\n",
       "      <th>3</th>\n",
       "      <td>Ankita Aggarwal</td>\n",
       "      <td>Won</td>\n",
       "      <td>277</td>\n",
       "    </tr>\n",
       "    <tr>\n",
       "      <th>4</th>\n",
       "      <td>Brendon Wycoff</td>\n",
       "      <td>Lost</td>\n",
       "      <td>132</td>\n",
       "    </tr>\n",
       "    <tr>\n",
       "      <th>5</th>\n",
       "      <td>Brendon Wycoff</td>\n",
       "      <td>Won</td>\n",
       "      <td>57</td>\n",
       "    </tr>\n",
       "    <tr>\n",
       "      <th>6</th>\n",
       "      <td>Clinton Mani</td>\n",
       "      <td>Lost</td>\n",
       "      <td>124</td>\n",
       "    </tr>\n",
       "    <tr>\n",
       "      <th>7</th>\n",
       "      <td>Clinton Mani</td>\n",
       "      <td>Won</td>\n",
       "      <td>60</td>\n",
       "    </tr>\n",
       "    <tr>\n",
       "      <th>8</th>\n",
       "      <td>Dennis Faux</td>\n",
       "      <td>Lost</td>\n",
       "      <td>12</td>\n",
       "    </tr>\n",
       "    <tr>\n",
       "      <th>9</th>\n",
       "      <td>Dennis Faux</td>\n",
       "      <td>Won</td>\n",
       "      <td>1</td>\n",
       "    </tr>\n",
       "    <tr>\n",
       "      <th>10</th>\n",
       "      <td>Earline Langton</td>\n",
       "      <td>Lost</td>\n",
       "      <td>52</td>\n",
       "    </tr>\n",
       "    <tr>\n",
       "      <th>11</th>\n",
       "      <td>Earline Langton</td>\n",
       "      <td>Won</td>\n",
       "      <td>30</td>\n",
       "    </tr>\n",
       "    <tr>\n",
       "      <th>12</th>\n",
       "      <td>Ekta Zutshi</td>\n",
       "      <td>Lost</td>\n",
       "      <td>206</td>\n",
       "    </tr>\n",
       "    <tr>\n",
       "      <th>13</th>\n",
       "      <td>Ekta Zutshi</td>\n",
       "      <td>Won</td>\n",
       "      <td>344</td>\n",
       "    </tr>\n",
       "    <tr>\n",
       "      <th>14</th>\n",
       "      <td>Gaurav Sameria</td>\n",
       "      <td>Lost</td>\n",
       "      <td>66</td>\n",
       "    </tr>\n",
       "    <tr>\n",
       "      <th>15</th>\n",
       "      <td>Gaurav Sameria</td>\n",
       "      <td>Won</td>\n",
       "      <td>48</td>\n",
       "    </tr>\n",
       "    <tr>\n",
       "      <th>16</th>\n",
       "      <td>Gayle Molter</td>\n",
       "      <td>Lost</td>\n",
       "      <td>74</td>\n",
       "    </tr>\n",
       "    <tr>\n",
       "      <th>17</th>\n",
       "      <td>Gayle Molter</td>\n",
       "      <td>Won</td>\n",
       "      <td>30</td>\n",
       "    </tr>\n",
       "    <tr>\n",
       "      <th>18</th>\n",
       "      <td>Gopa Trilochana</td>\n",
       "      <td>Lost</td>\n",
       "      <td>84</td>\n",
       "    </tr>\n",
       "    <tr>\n",
       "      <th>19</th>\n",
       "      <td>Gopa Trilochana</td>\n",
       "      <td>Won</td>\n",
       "      <td>52</td>\n",
       "    </tr>\n",
       "  </tbody>\n",
       "</table>\n",
       "</div>"
      ],
      "text/plain": [
       "            VP Name  Deal Status Code  Deal Status Code\n",
       "0         Alam Syed              Lost                62\n",
       "1         Alam Syed               Won                64\n",
       "2   Ankita Aggarwal              Lost               866\n",
       "3   Ankita Aggarwal               Won               277\n",
       "4    Brendon Wycoff              Lost               132\n",
       "5    Brendon Wycoff               Won                57\n",
       "6      Clinton Mani              Lost               124\n",
       "7      Clinton Mani               Won                60\n",
       "8       Dennis Faux              Lost                12\n",
       "9       Dennis Faux               Won                 1\n",
       "10  Earline Langton              Lost                52\n",
       "11  Earline Langton               Won                30\n",
       "12      Ekta Zutshi              Lost               206\n",
       "13      Ekta Zutshi               Won               344\n",
       "14   Gaurav Sameria              Lost                66\n",
       "15   Gaurav Sameria               Won                48\n",
       "16     Gayle Molter              Lost                74\n",
       "17     Gayle Molter               Won                30\n",
       "18  Gopa Trilochana              Lost                84\n",
       "19  Gopa Trilochana               Won                52"
      ]
     },
     "execution_count": 31,
     "metadata": {},
     "output_type": "execute_result"
    }
   ],
   "source": [
    "VP_Name_cat.head(20)"
   ]
  },
  {
   "cell_type": "code",
   "execution_count": 32,
   "id": "61620e64",
   "metadata": {},
   "outputs": [],
   "source": [
    "Manager_Name_cat = newdata[['Manager Name',\n",
    "                     'Deal Status Code']].groupby(['Manager Name',\n",
    "                                                   'Deal Status Code']).size().reset_index().rename(columns={0:'Total count'})"
   ]
  },
  {
   "cell_type": "code",
   "execution_count": 33,
   "id": "fc689269",
   "metadata": {},
   "outputs": [
    {
     "data": {
      "text/html": [
       "<div>\n",
       "<style scoped>\n",
       "    .dataframe tbody tr th:only-of-type {\n",
       "        vertical-align: middle;\n",
       "    }\n",
       "\n",
       "    .dataframe tbody tr th {\n",
       "        vertical-align: top;\n",
       "    }\n",
       "\n",
       "    .dataframe thead th {\n",
       "        text-align: right;\n",
       "    }\n",
       "</style>\n",
       "<table border=\"1\" class=\"dataframe\">\n",
       "  <thead>\n",
       "    <tr style=\"text-align: right;\">\n",
       "      <th></th>\n",
       "      <th>Manager Name</th>\n",
       "      <th>Deal Status Code</th>\n",
       "      <th>Total count</th>\n",
       "    </tr>\n",
       "  </thead>\n",
       "  <tbody>\n",
       "    <tr>\n",
       "      <th>0</th>\n",
       "      <td>Aastha Gandhi</td>\n",
       "      <td>Won</td>\n",
       "      <td>1</td>\n",
       "    </tr>\n",
       "    <tr>\n",
       "      <th>1</th>\n",
       "      <td>Abhinav Warrier</td>\n",
       "      <td>Lost</td>\n",
       "      <td>80</td>\n",
       "    </tr>\n",
       "    <tr>\n",
       "      <th>2</th>\n",
       "      <td>Abhinav Warrier</td>\n",
       "      <td>Won</td>\n",
       "      <td>15</td>\n",
       "    </tr>\n",
       "    <tr>\n",
       "      <th>3</th>\n",
       "      <td>Abhishek Singhal</td>\n",
       "      <td>Lost</td>\n",
       "      <td>44</td>\n",
       "    </tr>\n",
       "    <tr>\n",
       "      <th>4</th>\n",
       "      <td>Abhishek Singhal</td>\n",
       "      <td>Won</td>\n",
       "      <td>23</td>\n",
       "    </tr>\n",
       "    <tr>\n",
       "      <th>...</th>\n",
       "      <td>...</td>\n",
       "      <td>...</td>\n",
       "      <td>...</td>\n",
       "    </tr>\n",
       "    <tr>\n",
       "      <th>470</th>\n",
       "      <td>sunder paal</td>\n",
       "      <td>Won</td>\n",
       "      <td>6</td>\n",
       "    </tr>\n",
       "    <tr>\n",
       "      <th>471</th>\n",
       "      <td>vansu dev</td>\n",
       "      <td>Lost</td>\n",
       "      <td>78</td>\n",
       "    </tr>\n",
       "    <tr>\n",
       "      <th>472</th>\n",
       "      <td>vansu dev</td>\n",
       "      <td>Won</td>\n",
       "      <td>54</td>\n",
       "    </tr>\n",
       "    <tr>\n",
       "      <th>473</th>\n",
       "      <td>vinit katariya</td>\n",
       "      <td>Lost</td>\n",
       "      <td>14</td>\n",
       "    </tr>\n",
       "    <tr>\n",
       "      <th>474</th>\n",
       "      <td>vinit katariya</td>\n",
       "      <td>Won</td>\n",
       "      <td>2</td>\n",
       "    </tr>\n",
       "  </tbody>\n",
       "</table>\n",
       "<p>475 rows × 3 columns</p>\n",
       "</div>"
      ],
      "text/plain": [
       "         Manager Name Deal Status Code  Total count\n",
       "0       Aastha Gandhi              Won            1\n",
       "1     Abhinav Warrier             Lost           80\n",
       "2     Abhinav Warrier              Won           15\n",
       "3    Abhishek Singhal             Lost           44\n",
       "4    Abhishek Singhal              Won           23\n",
       "..                ...              ...          ...\n",
       "470       sunder paal              Won            6\n",
       "471         vansu dev             Lost           78\n",
       "472         vansu dev              Won           54\n",
       "473    vinit katariya             Lost           14\n",
       "474    vinit katariya              Won            2\n",
       "\n",
       "[475 rows x 3 columns]"
      ]
     },
     "execution_count": 33,
     "metadata": {},
     "output_type": "execute_result"
    }
   ],
   "source": [
    "Manager_Name_cat"
   ]
  },
  {
   "cell_type": "code",
   "execution_count": 34,
   "id": "a4eb6f03",
   "metadata": {},
   "outputs": [
    {
     "data": {
      "text/html": [
       "<div>\n",
       "<style scoped>\n",
       "    .dataframe tbody tr th:only-of-type {\n",
       "        vertical-align: middle;\n",
       "    }\n",
       "\n",
       "    .dataframe tbody tr th {\n",
       "        vertical-align: top;\n",
       "    }\n",
       "\n",
       "    .dataframe thead th {\n",
       "        text-align: right;\n",
       "    }\n",
       "</style>\n",
       "<table border=\"1\" class=\"dataframe\">\n",
       "  <thead>\n",
       "    <tr style=\"text-align: right;\">\n",
       "      <th></th>\n",
       "      <th>Client Category</th>\n",
       "      <th>Solution Type</th>\n",
       "      <th>Deal Date</th>\n",
       "      <th>Sector</th>\n",
       "      <th>Location</th>\n",
       "      <th>VP Name</th>\n",
       "      <th>Manager Name</th>\n",
       "      <th>Deal Cost</th>\n",
       "      <th>Deal Status Code</th>\n",
       "    </tr>\n",
       "  </thead>\n",
       "  <tbody>\n",
       "    <tr>\n",
       "      <th>0</th>\n",
       "      <td>Telecom</td>\n",
       "      <td>Solution 7</td>\n",
       "      <td>2012-03-27</td>\n",
       "      <td>Sector 24</td>\n",
       "      <td>L5</td>\n",
       "      <td>Ekta Zutshi</td>\n",
       "      <td>Gopa Trilochana</td>\n",
       "      <td>150000.00</td>\n",
       "      <td>Won</td>\n",
       "    </tr>\n",
       "    <tr>\n",
       "      <th>1</th>\n",
       "      <td>Telecom</td>\n",
       "      <td>Solution 7</td>\n",
       "      <td>2012-09-25</td>\n",
       "      <td>Sector 24</td>\n",
       "      <td>L5</td>\n",
       "      <td>Ekta Zutshi</td>\n",
       "      <td>Gopa Trilochana</td>\n",
       "      <td>744705.88</td>\n",
       "      <td>Won</td>\n",
       "    </tr>\n",
       "    <tr>\n",
       "      <th>2</th>\n",
       "      <td>Internal</td>\n",
       "      <td>Solution 59</td>\n",
       "      <td>2011-08-01</td>\n",
       "      <td>Sector 20</td>\n",
       "      <td>Others</td>\n",
       "      <td>Ekta Zutshi</td>\n",
       "      <td>Russell Dahlen</td>\n",
       "      <td>60000.00</td>\n",
       "      <td>Lost</td>\n",
       "    </tr>\n",
       "    <tr>\n",
       "      <th>3</th>\n",
       "      <td>Internal</td>\n",
       "      <td>Solution 59</td>\n",
       "      <td>2011-04-28</td>\n",
       "      <td>Sector 20</td>\n",
       "      <td>Others</td>\n",
       "      <td>Ekta Zutshi</td>\n",
       "      <td>Russell Dahlen</td>\n",
       "      <td>60000.00</td>\n",
       "      <td>Lost</td>\n",
       "    </tr>\n",
       "    <tr>\n",
       "      <th>4</th>\n",
       "      <td>Internal</td>\n",
       "      <td>Solution 32</td>\n",
       "      <td>2011-06-03</td>\n",
       "      <td>Sector 20</td>\n",
       "      <td>Others</td>\n",
       "      <td>Ekta Zutshi</td>\n",
       "      <td>Russell Dahlen</td>\n",
       "      <td>80882.35</td>\n",
       "      <td>Lost</td>\n",
       "    </tr>\n",
       "  </tbody>\n",
       "</table>\n",
       "</div>"
      ],
      "text/plain": [
       "  Client Category Solution Type  Deal Date     Sector Location      VP Name  \\\n",
       "0         Telecom    Solution 7 2012-03-27  Sector 24       L5  Ekta Zutshi   \n",
       "1         Telecom    Solution 7 2012-09-25  Sector 24       L5  Ekta Zutshi   \n",
       "2        Internal   Solution 59 2011-08-01  Sector 20   Others  Ekta Zutshi   \n",
       "3        Internal   Solution 59 2011-04-28  Sector 20   Others  Ekta Zutshi   \n",
       "4        Internal   Solution 32 2011-06-03  Sector 20   Others  Ekta Zutshi   \n",
       "\n",
       "      Manager Name  Deal Cost Deal Status Code  \n",
       "0  Gopa Trilochana  150000.00              Won  \n",
       "1  Gopa Trilochana  744705.88              Won  \n",
       "2   Russell Dahlen   60000.00             Lost  \n",
       "3   Russell Dahlen   60000.00             Lost  \n",
       "4   Russell Dahlen   80882.35             Lost  "
      ]
     },
     "execution_count": 34,
     "metadata": {},
     "output_type": "execute_result"
    }
   ],
   "source": [
    "newdata.head()"
   ]
  },
  {
   "cell_type": "code",
   "execution_count": 35,
   "id": "f8c2e0e0",
   "metadata": {},
   "outputs": [
    {
     "name": "stdout",
     "output_type": "stream",
     "text": [
      "Manager Name      Aastha Gandhi  Abhinav Warrier  Abhishek Singhal  \\\n",
      "Deal Status Code                                                     \n",
      "Lost                        NaN    588808.824000     772860.963182   \n",
      "Won                   242647.06    302235.296667     476956.522609   \n",
      "\n",
      "Manager Name      Abhiskek Kumar   Abhiskhek  D    Abram Fines  Aditya Kumar  \\\n",
      "Deal Status Code                                                               \n",
      "Lost               949894.957857  440767.973889  501764.706000     792647.06   \n",
      "Won                587507.740789  375658.823600  714127.789655     250367.65   \n",
      "\n",
      "Manager Name      Aditya Tondon   Ahdarsha Jha  Ahswini Saini  ...  \\\n",
      "Deal Status Code                                               ...   \n",
      "Lost                 1058823.53  924866.311818     1029411.77  ...   \n",
      "Won                         NaN  351102.940000      601470.59  ...   \n",
      "\n",
      "Manager Name          shafibul  sharat chandran   sheak shakir  shiv kumar  \\\n",
      "Deal Status Code                                                             \n",
      "Lost              2.867647e+06       441176.470  882352.940000   219019.61   \n",
      "Won                        NaN       989411.765  461127.451667         NaN   \n",
      "\n",
      "Manager Name      shiv shakti singh    shyam kumar   som dutt  sunder paal  \\\n",
      "Deal Status Code                                                             \n",
      "Lost                     1470588.24  715250.000000        NaN   882352.940   \n",
      "Won                             NaN  307769.608333  198627.45   371960.785   \n",
      "\n",
      "Manager Name         vansu dev  vinit katariya  \n",
      "Deal Status Code                                \n",
      "Lost              9.687406e+05    1.098739e+06  \n",
      "Won               1.253295e+06    3.917206e+06  \n",
      "\n",
      "[2 rows x 278 columns]\n"
     ]
    }
   ],
   "source": [
    "print(pd.pivot_table(newdata, index = 'Deal Status Code', columns = 'Manager Name', values ='Deal Cost'))"
   ]
  },
  {
   "cell_type": "code",
   "execution_count": 36,
   "id": "1440e9ea",
   "metadata": {},
   "outputs": [
    {
     "data": {
      "text/html": [
       "<div>\n",
       "<style scoped>\n",
       "    .dataframe tbody tr th:only-of-type {\n",
       "        vertical-align: middle;\n",
       "    }\n",
       "\n",
       "    .dataframe tbody tr th {\n",
       "        vertical-align: top;\n",
       "    }\n",
       "\n",
       "    .dataframe thead th {\n",
       "        text-align: right;\n",
       "    }\n",
       "</style>\n",
       "<table border=\"1\" class=\"dataframe\">\n",
       "  <thead>\n",
       "    <tr style=\"text-align: right;\">\n",
       "      <th>VP Name</th>\n",
       "      <th>Alam Syed</th>\n",
       "      <th>Ankita Aggarwal</th>\n",
       "      <th>Brendon Wycoff</th>\n",
       "      <th>Clinton Mani</th>\n",
       "      <th>Dennis Faux</th>\n",
       "      <th>Earline Langton</th>\n",
       "      <th>Ekta Zutshi</th>\n",
       "      <th>Gaurav Sameria</th>\n",
       "      <th>Gayle Molter</th>\n",
       "      <th>Gopa Trilochana</th>\n",
       "      <th>...</th>\n",
       "      <th>Saurabh Singh</th>\n",
       "      <th>Son Mcconnaughy</th>\n",
       "      <th>Varsha Arora</th>\n",
       "      <th>Vidur Hukle</th>\n",
       "      <th>Vikram Rawat</th>\n",
       "      <th>Visvajeet Das</th>\n",
       "      <th>Waylon Mulder</th>\n",
       "      <th>md. afsar</th>\n",
       "      <th>neeraj kumar</th>\n",
       "      <th>som dutt</th>\n",
       "    </tr>\n",
       "    <tr>\n",
       "      <th>Deal Status Code</th>\n",
       "      <th></th>\n",
       "      <th></th>\n",
       "      <th></th>\n",
       "      <th></th>\n",
       "      <th></th>\n",
       "      <th></th>\n",
       "      <th></th>\n",
       "      <th></th>\n",
       "      <th></th>\n",
       "      <th></th>\n",
       "      <th></th>\n",
       "      <th></th>\n",
       "      <th></th>\n",
       "      <th></th>\n",
       "      <th></th>\n",
       "      <th></th>\n",
       "      <th></th>\n",
       "      <th></th>\n",
       "      <th></th>\n",
       "      <th></th>\n",
       "      <th></th>\n",
       "    </tr>\n",
       "  </thead>\n",
       "  <tbody>\n",
       "    <tr>\n",
       "      <th>Lost</th>\n",
       "      <td>1.087144e+06</td>\n",
       "      <td>654206.63000</td>\n",
       "      <td>1.096894e+06</td>\n",
       "      <td>776755.218548</td>\n",
       "      <td>554656.861667</td>\n",
       "      <td>1.189219e+06</td>\n",
       "      <td>7.912821e+05</td>\n",
       "      <td>554590.017879</td>\n",
       "      <td>7.291971e+05</td>\n",
       "      <td>1.464321e+06</td>\n",
       "      <td>...</td>\n",
       "      <td>761066.176429</td>\n",
       "      <td>1.517227e+06</td>\n",
       "      <td>7.272255e+05</td>\n",
       "      <td>615517.241724</td>\n",
       "      <td>1.681103e+06</td>\n",
       "      <td>1176470.59</td>\n",
       "      <td>235294.12</td>\n",
       "      <td>3235294.12</td>\n",
       "      <td>478943.956142</td>\n",
       "      <td>554650.469710</td>\n",
       "    </tr>\n",
       "    <tr>\n",
       "      <th>Won</th>\n",
       "      <td>1.172937e+06</td>\n",
       "      <td>503528.35065</td>\n",
       "      <td>1.909288e+06</td>\n",
       "      <td>600857.843500</td>\n",
       "      <td>315294.120000</td>\n",
       "      <td>6.034314e+05</td>\n",
       "      <td>1.021396e+06</td>\n",
       "      <td>586433.823958</td>\n",
       "      <td>1.282863e+06</td>\n",
       "      <td>8.195701e+05</td>\n",
       "      <td>...</td>\n",
       "      <td>962863.052187</td>\n",
       "      <td>5.470632e+05</td>\n",
       "      <td>3.454505e+06</td>\n",
       "      <td>540581.233095</td>\n",
       "      <td>5.161111e+05</td>\n",
       "      <td>5588235.29</td>\n",
       "      <td>88235.29</td>\n",
       "      <td>NaN</td>\n",
       "      <td>693700.190092</td>\n",
       "      <td>562977.044756</td>\n",
       "    </tr>\n",
       "  </tbody>\n",
       "</table>\n",
       "<p>2 rows × 43 columns</p>\n",
       "</div>"
      ],
      "text/plain": [
       "VP Name              Alam Syed  Ankita Aggarwal  Brendon Wycoff  \\\n",
       "Deal Status Code                                                  \n",
       "Lost              1.087144e+06     654206.63000    1.096894e+06   \n",
       "Won               1.172937e+06     503528.35065    1.909288e+06   \n",
       "\n",
       "VP Name            Clinton Mani    Dennis Faux  Earline Langton   Ekta Zutshi  \\\n",
       "Deal Status Code                                                                \n",
       "Lost              776755.218548  554656.861667     1.189219e+06  7.912821e+05   \n",
       "Won               600857.843500  315294.120000     6.034314e+05  1.021396e+06   \n",
       "\n",
       "VP Name           Gaurav Sameria  Gayle Molter  Gopa Trilochana  ...  \\\n",
       "Deal Status Code                                                 ...   \n",
       "Lost               554590.017879  7.291971e+05     1.464321e+06  ...   \n",
       "Won                586433.823958  1.282863e+06     8.195701e+05  ...   \n",
       "\n",
       "VP Name           Saurabh Singh  Son Mcconnaughy  Varsha Arora    Vidur Hukle  \\\n",
       "Deal Status Code                                                                \n",
       "Lost              761066.176429     1.517227e+06  7.272255e+05  615517.241724   \n",
       "Won               962863.052187     5.470632e+05  3.454505e+06  540581.233095   \n",
       "\n",
       "VP Name           Vikram Rawat  Visvajeet Das  Waylon Mulder   md. afsar  \\\n",
       "Deal Status Code                                                           \n",
       "Lost              1.681103e+06     1176470.59      235294.12  3235294.12   \n",
       "Won               5.161111e+05     5588235.29       88235.29         NaN   \n",
       "\n",
       "VP Name            neeraj kumar       som dutt  \n",
       "Deal Status Code                                \n",
       "Lost              478943.956142  554650.469710  \n",
       "Won               693700.190092  562977.044756  \n",
       "\n",
       "[2 rows x 43 columns]"
      ]
     },
     "execution_count": 36,
     "metadata": {},
     "output_type": "execute_result"
    }
   ],
   "source": [
    "pd.pivot_table(newdata, index = 'Deal Status Code', columns = 'VP Name', values ='Deal Cost')"
   ]
  },
  {
   "cell_type": "code",
   "execution_count": 37,
   "id": "3dec7a1a",
   "metadata": {},
   "outputs": [
    {
     "name": "stdout",
     "output_type": "stream",
     "text": [
      "<class 'pandas.core.frame.DataFrame'>\n",
      "RangeIndex: 10061 entries, 0 to 10060\n",
      "Data columns (total 9 columns):\n",
      " #   Column            Non-Null Count  Dtype         \n",
      "---  ------            --------------  -----         \n",
      " 0   Client Category   10061 non-null  object        \n",
      " 1   Solution Type     10061 non-null  object        \n",
      " 2   Deal Date         10061 non-null  datetime64[ns]\n",
      " 3   Sector            10061 non-null  object        \n",
      " 4   Location          10061 non-null  object        \n",
      " 5   VP Name           10061 non-null  object        \n",
      " 6   Manager Name      10061 non-null  object        \n",
      " 7   Deal Cost         10061 non-null  float64       \n",
      " 8   Deal Status Code  10061 non-null  object        \n",
      "dtypes: datetime64[ns](1), float64(1), object(7)\n",
      "memory usage: 707.5+ KB\n"
     ]
    }
   ],
   "source": [
    "newdata.info()"
   ]
  },
  {
   "cell_type": "code",
   "execution_count": 38,
   "id": "9223dcf7",
   "metadata": {},
   "outputs": [],
   "source": [
    "import datetime\n",
    "newdata['Deal_Date_year'] = newdata['Deal Date'].dt.year"
   ]
  },
  {
   "cell_type": "code",
   "execution_count": 39,
   "id": "d3b8b6f1",
   "metadata": {},
   "outputs": [
    {
     "data": {
      "text/html": [
       "<div>\n",
       "<style scoped>\n",
       "    .dataframe tbody tr th:only-of-type {\n",
       "        vertical-align: middle;\n",
       "    }\n",
       "\n",
       "    .dataframe tbody tr th {\n",
       "        vertical-align: top;\n",
       "    }\n",
       "\n",
       "    .dataframe thead th {\n",
       "        text-align: right;\n",
       "    }\n",
       "</style>\n",
       "<table border=\"1\" class=\"dataframe\">\n",
       "  <thead>\n",
       "    <tr style=\"text-align: right;\">\n",
       "      <th></th>\n",
       "      <th>Client Category</th>\n",
       "      <th>Solution Type</th>\n",
       "      <th>Deal Date</th>\n",
       "      <th>Sector</th>\n",
       "      <th>Location</th>\n",
       "      <th>VP Name</th>\n",
       "      <th>Manager Name</th>\n",
       "      <th>Deal Cost</th>\n",
       "      <th>Deal Status Code</th>\n",
       "      <th>Deal_Date_year</th>\n",
       "    </tr>\n",
       "  </thead>\n",
       "  <tbody>\n",
       "    <tr>\n",
       "      <th>0</th>\n",
       "      <td>Telecom</td>\n",
       "      <td>Solution 7</td>\n",
       "      <td>2012-03-27</td>\n",
       "      <td>Sector 24</td>\n",
       "      <td>L5</td>\n",
       "      <td>Ekta Zutshi</td>\n",
       "      <td>Gopa Trilochana</td>\n",
       "      <td>150000.00</td>\n",
       "      <td>Won</td>\n",
       "      <td>2012</td>\n",
       "    </tr>\n",
       "    <tr>\n",
       "      <th>1</th>\n",
       "      <td>Telecom</td>\n",
       "      <td>Solution 7</td>\n",
       "      <td>2012-09-25</td>\n",
       "      <td>Sector 24</td>\n",
       "      <td>L5</td>\n",
       "      <td>Ekta Zutshi</td>\n",
       "      <td>Gopa Trilochana</td>\n",
       "      <td>744705.88</td>\n",
       "      <td>Won</td>\n",
       "      <td>2012</td>\n",
       "    </tr>\n",
       "    <tr>\n",
       "      <th>2</th>\n",
       "      <td>Internal</td>\n",
       "      <td>Solution 59</td>\n",
       "      <td>2011-08-01</td>\n",
       "      <td>Sector 20</td>\n",
       "      <td>Others</td>\n",
       "      <td>Ekta Zutshi</td>\n",
       "      <td>Russell Dahlen</td>\n",
       "      <td>60000.00</td>\n",
       "      <td>Lost</td>\n",
       "      <td>2011</td>\n",
       "    </tr>\n",
       "    <tr>\n",
       "      <th>3</th>\n",
       "      <td>Internal</td>\n",
       "      <td>Solution 59</td>\n",
       "      <td>2011-04-28</td>\n",
       "      <td>Sector 20</td>\n",
       "      <td>Others</td>\n",
       "      <td>Ekta Zutshi</td>\n",
       "      <td>Russell Dahlen</td>\n",
       "      <td>60000.00</td>\n",
       "      <td>Lost</td>\n",
       "      <td>2011</td>\n",
       "    </tr>\n",
       "    <tr>\n",
       "      <th>4</th>\n",
       "      <td>Internal</td>\n",
       "      <td>Solution 32</td>\n",
       "      <td>2011-06-03</td>\n",
       "      <td>Sector 20</td>\n",
       "      <td>Others</td>\n",
       "      <td>Ekta Zutshi</td>\n",
       "      <td>Russell Dahlen</td>\n",
       "      <td>80882.35</td>\n",
       "      <td>Lost</td>\n",
       "      <td>2011</td>\n",
       "    </tr>\n",
       "  </tbody>\n",
       "</table>\n",
       "</div>"
      ],
      "text/plain": [
       "  Client Category Solution Type  Deal Date     Sector Location      VP Name  \\\n",
       "0         Telecom    Solution 7 2012-03-27  Sector 24       L5  Ekta Zutshi   \n",
       "1         Telecom    Solution 7 2012-09-25  Sector 24       L5  Ekta Zutshi   \n",
       "2        Internal   Solution 59 2011-08-01  Sector 20   Others  Ekta Zutshi   \n",
       "3        Internal   Solution 59 2011-04-28  Sector 20   Others  Ekta Zutshi   \n",
       "4        Internal   Solution 32 2011-06-03  Sector 20   Others  Ekta Zutshi   \n",
       "\n",
       "      Manager Name  Deal Cost Deal Status Code  Deal_Date_year  \n",
       "0  Gopa Trilochana  150000.00              Won            2012  \n",
       "1  Gopa Trilochana  744705.88              Won            2012  \n",
       "2   Russell Dahlen   60000.00             Lost            2011  \n",
       "3   Russell Dahlen   60000.00             Lost            2011  \n",
       "4   Russell Dahlen   80882.35             Lost            2011  "
      ]
     },
     "execution_count": 39,
     "metadata": {},
     "output_type": "execute_result"
    }
   ],
   "source": [
    "newdata.head()"
   ]
  },
  {
   "cell_type": "code",
   "execution_count": 41,
   "id": "0140d31f",
   "metadata": {},
   "outputs": [
    {
     "data": {
      "image/png": "[encoded data removed]",
      "text/plain": [
       "<Figure size 432x288 with 1 Axes>"
      ]
     },
     "metadata": {
      "needs_background": "light"
     },
     "output_type": "display_data"
    }
   ],
   "source": [
    "sns.histplot(newdata.Deal_Date_year, bins = 8)\n",
    "plt.show()"
   ]
  },
  {
   "cell_type": "code",
   "execution_count": 42,
   "id": "527c78e0",
   "metadata": {},
   "outputs": [],
   "source": [
    "newdata['Deal_Date_month'] = newdata['Deal Date'].dt.month"
   ]
  },
  {
   "cell_type": "code",
   "execution_count": 45,
   "id": "709d2cce",
   "metadata": {},
   "outputs": [
    {
     "data": {
      "text/html": [
       "<div>\n",
       "<style scoped>\n",
       "    .dataframe tbody tr th:only-of-type {\n",
       "        vertical-align: middle;\n",
       "    }\n",
       "\n",
       "    .dataframe tbody tr th {\n",
       "        vertical-align: top;\n",
       "    }\n",
       "\n",
       "    .dataframe thead th {\n",
       "        text-align: right;\n",
       "    }\n",
       "</style>\n",
       "<table border=\"1\" class=\"dataframe\">\n",
       "  <thead>\n",
       "    <tr style=\"text-align: right;\">\n",
       "      <th></th>\n",
       "      <th>Client Category</th>\n",
       "      <th>Solution Type</th>\n",
       "      <th>Deal Date</th>\n",
       "      <th>Sector</th>\n",
       "      <th>Location</th>\n",
       "      <th>VP Name</th>\n",
       "      <th>Manager Name</th>\n",
       "      <th>Deal Cost</th>\n",
       "      <th>Deal Status Code</th>\n",
       "      <th>Deal_Date_year</th>\n",
       "      <th>Deal_Date_month</th>\n",
       "    </tr>\n",
       "  </thead>\n",
       "  <tbody>\n",
       "    <tr>\n",
       "      <th>0</th>\n",
       "      <td>Telecom</td>\n",
       "      <td>Solution 7</td>\n",
       "      <td>2012-03-27</td>\n",
       "      <td>Sector 24</td>\n",
       "      <td>L5</td>\n",
       "      <td>Ekta Zutshi</td>\n",
       "      <td>Gopa Trilochana</td>\n",
       "      <td>150000.00</td>\n",
       "      <td>Won</td>\n",
       "      <td>2012</td>\n",
       "      <td>3</td>\n",
       "    </tr>\n",
       "    <tr>\n",
       "      <th>1</th>\n",
       "      <td>Telecom</td>\n",
       "      <td>Solution 7</td>\n",
       "      <td>2012-09-25</td>\n",
       "      <td>Sector 24</td>\n",
       "      <td>L5</td>\n",
       "      <td>Ekta Zutshi</td>\n",
       "      <td>Gopa Trilochana</td>\n",
       "      <td>744705.88</td>\n",
       "      <td>Won</td>\n",
       "      <td>2012</td>\n",
       "      <td>9</td>\n",
       "    </tr>\n",
       "    <tr>\n",
       "      <th>2</th>\n",
       "      <td>Internal</td>\n",
       "      <td>Solution 59</td>\n",
       "      <td>2011-08-01</td>\n",
       "      <td>Sector 20</td>\n",
       "      <td>Others</td>\n",
       "      <td>Ekta Zutshi</td>\n",
       "      <td>Russell Dahlen</td>\n",
       "      <td>60000.00</td>\n",
       "      <td>Lost</td>\n",
       "      <td>2011</td>\n",
       "      <td>8</td>\n",
       "    </tr>\n",
       "    <tr>\n",
       "      <th>3</th>\n",
       "      <td>Internal</td>\n",
       "      <td>Solution 59</td>\n",
       "      <td>2011-04-28</td>\n",
       "      <td>Sector 20</td>\n",
       "      <td>Others</td>\n",
       "      <td>Ekta Zutshi</td>\n",
       "      <td>Russell Dahlen</td>\n",
       "      <td>60000.00</td>\n",
       "      <td>Lost</td>\n",
       "      <td>2011</td>\n",
       "      <td>4</td>\n",
       "    </tr>\n",
       "    <tr>\n",
       "      <th>4</th>\n",
       "      <td>Internal</td>\n",
       "      <td>Solution 32</td>\n",
       "      <td>2011-06-03</td>\n",
       "      <td>Sector 20</td>\n",
       "      <td>Others</td>\n",
       "      <td>Ekta Zutshi</td>\n",
       "      <td>Russell Dahlen</td>\n",
       "      <td>80882.35</td>\n",
       "      <td>Lost</td>\n",
       "      <td>2011</td>\n",
       "      <td>6</td>\n",
       "    </tr>\n",
       "  </tbody>\n",
       "</table>\n",
       "</div>"
      ],
      "text/plain": [
       "  Client Category Solution Type  Deal Date     Sector Location      VP Name  \\\n",
       "0         Telecom    Solution 7 2012-03-27  Sector 24       L5  Ekta Zutshi   \n",
       "1         Telecom    Solution 7 2012-09-25  Sector 24       L5  Ekta Zutshi   \n",
       "2        Internal   Solution 59 2011-08-01  Sector 20   Others  Ekta Zutshi   \n",
       "3        Internal   Solution 59 2011-04-28  Sector 20   Others  Ekta Zutshi   \n",
       "4        Internal   Solution 32 2011-06-03  Sector 20   Others  Ekta Zutshi   \n",
       "\n",
       "      Manager Name  Deal Cost Deal Status Code  Deal_Date_year  \\\n",
       "0  Gopa Trilochana  150000.00              Won            2012   \n",
       "1  Gopa Trilochana  744705.88              Won            2012   \n",
       "2   Russell Dahlen   60000.00             Lost            2011   \n",
       "3   Russell Dahlen   60000.00             Lost            2011   \n",
       "4   Russell Dahlen   80882.35             Lost            2011   \n",
       "\n",
       "   Deal_Date_month  \n",
       "0                3  \n",
       "1                9  \n",
       "2                8  \n",
       "3                4  \n",
       "4                6  "
      ]
     },
     "execution_count": 45,
     "metadata": {},
     "output_type": "execute_result"
    }
   ],
   "source": [
    "newdata.head()"
   ]
  },
  {
   "cell_type": "code",
   "execution_count": 44,
   "id": "a1ea5450",
   "metadata": {},
   "outputs": [
    {
     "data": {
      "image/png": "[encoded data removed]",
      "text/plain": [
       "<Figure size 432x288 with 1 Axes>"
      ]
     },
     "metadata": {
      "needs_background": "light"
     },
     "output_type": "display_data"
    }
   ],
   "source": [
    "sns.histplot(newdata.Deal_Date_month, bins = 12)\n",
    "plt.show()"
   ]
  },
  {
   "cell_type": "code",
   "execution_count": 46,
   "id": "8bb6a208",
   "metadata": {},
   "outputs": [],
   "source": [
    "newdata['Deal_Date_quarter'] = newdata['Deal Date'].dt.quarter"
   ]
  },
  {
   "cell_type": "code",
   "execution_count": 47,
   "id": "a7e8b6dc",
   "metadata": {},
   "outputs": [
    {
     "data": {
      "image/png": "[encoded data removed]",
      "text/plain": [
       "<Figure size 432x288 with 1 Axes>"
      ]
     },
     "metadata": {
      "needs_background": "light"
     },
     "output_type": "display_data"
    }
   ],
   "source": [
    "sns.histplot(newdata.Deal_Date_quarter, bins = 4)\n",
    "plt.show()"
   ]
  },
  {
   "cell_type": "code",
   "execution_count": 48,
   "id": "aa74e975",
   "metadata": {},
   "outputs": [
    {
     "data": {
      "text/plain": [
       "<AxesSubplot:>"
      ]
     },
     "execution_count": 48,
     "metadata": {},
     "output_type": "execute_result"
    },
    {
     "data": {
      "image/png": "[encoded data removed]",
      "text/plain": [
       "<Figure size 432x288 with 2 Axes>"
      ]
     },
     "metadata": {
      "needs_background": "light"
     },
     "output_type": "display_data"
    }
   ],
   "source": [
    "sns.heatmap(newdata.corr(), annot=True, cmap='rainbow')"
   ]
  },
  {
   "cell_type": "code",
   "execution_count": 49,
   "id": "416b7752",
   "metadata": {},
   "outputs": [
    {
     "data": {
      "text/html": [
       "<div>\n",
       "<style scoped>\n",
       "    .dataframe tbody tr th:only-of-type {\n",
       "        vertical-align: middle;\n",
       "    }\n",
       "\n",
       "    .dataframe tbody tr th {\n",
       "        vertical-align: top;\n",
       "    }\n",
       "\n",
       "    .dataframe thead th {\n",
       "        text-align: right;\n",
       "    }\n",
       "</style>\n",
       "<table border=\"1\" class=\"dataframe\">\n",
       "  <thead>\n",
       "    <tr style=\"text-align: right;\">\n",
       "      <th></th>\n",
       "      <th>Client Category</th>\n",
       "      <th>Solution Type</th>\n",
       "      <th>Deal Date</th>\n",
       "      <th>Sector</th>\n",
       "      <th>Location</th>\n",
       "      <th>VP Name</th>\n",
       "      <th>Manager Name</th>\n",
       "      <th>Deal Cost</th>\n",
       "      <th>Deal Status Code</th>\n",
       "      <th>Deal_Date_year</th>\n",
       "      <th>Deal_Date_month</th>\n",
       "      <th>Deal_Date_quarter</th>\n",
       "    </tr>\n",
       "  </thead>\n",
       "  <tbody>\n",
       "    <tr>\n",
       "      <th>0</th>\n",
       "      <td>Telecom</td>\n",
       "      <td>Solution 7</td>\n",
       "      <td>2012-03-27</td>\n",
       "      <td>Sector 24</td>\n",
       "      <td>L5</td>\n",
       "      <td>Ekta Zutshi</td>\n",
       "      <td>Gopa Trilochana</td>\n",
       "      <td>150000.00</td>\n",
       "      <td>Won</td>\n",
       "      <td>2012</td>\n",
       "      <td>3</td>\n",
       "      <td>1</td>\n",
       "    </tr>\n",
       "    <tr>\n",
       "      <th>1</th>\n",
       "      <td>Telecom</td>\n",
       "      <td>Solution 7</td>\n",
       "      <td>2012-09-25</td>\n",
       "      <td>Sector 24</td>\n",
       "      <td>L5</td>\n",
       "      <td>Ekta Zutshi</td>\n",
       "      <td>Gopa Trilochana</td>\n",
       "      <td>744705.88</td>\n",
       "      <td>Won</td>\n",
       "      <td>2012</td>\n",
       "      <td>9</td>\n",
       "      <td>3</td>\n",
       "    </tr>\n",
       "    <tr>\n",
       "      <th>2</th>\n",
       "      <td>Internal</td>\n",
       "      <td>Solution 59</td>\n",
       "      <td>2011-08-01</td>\n",
       "      <td>Sector 20</td>\n",
       "      <td>Others</td>\n",
       "      <td>Ekta Zutshi</td>\n",
       "      <td>Russell Dahlen</td>\n",
       "      <td>60000.00</td>\n",
       "      <td>Lost</td>\n",
       "      <td>2011</td>\n",
       "      <td>8</td>\n",
       "      <td>3</td>\n",
       "    </tr>\n",
       "    <tr>\n",
       "      <th>3</th>\n",
       "      <td>Internal</td>\n",
       "      <td>Solution 59</td>\n",
       "      <td>2011-04-28</td>\n",
       "      <td>Sector 20</td>\n",
       "      <td>Others</td>\n",
       "      <td>Ekta Zutshi</td>\n",
       "      <td>Russell Dahlen</td>\n",
       "      <td>60000.00</td>\n",
       "      <td>Lost</td>\n",
       "      <td>2011</td>\n",
       "      <td>4</td>\n",
       "      <td>2</td>\n",
       "    </tr>\n",
       "    <tr>\n",
       "      <th>4</th>\n",
       "      <td>Internal</td>\n",
       "      <td>Solution 32</td>\n",
       "      <td>2011-06-03</td>\n",
       "      <td>Sector 20</td>\n",
       "      <td>Others</td>\n",
       "      <td>Ekta Zutshi</td>\n",
       "      <td>Russell Dahlen</td>\n",
       "      <td>80882.35</td>\n",
       "      <td>Lost</td>\n",
       "      <td>2011</td>\n",
       "      <td>6</td>\n",
       "      <td>2</td>\n",
       "    </tr>\n",
       "  </tbody>\n",
       "</table>\n",
       "</div>"
      ],
      "text/plain": [
       "  Client Category Solution Type  Deal Date     Sector Location      VP Name  \\\n",
       "0         Telecom    Solution 7 2012-03-27  Sector 24       L5  Ekta Zutshi   \n",
       "1         Telecom    Solution 7 2012-09-25  Sector 24       L5  Ekta Zutshi   \n",
       "2        Internal   Solution 59 2011-08-01  Sector 20   Others  Ekta Zutshi   \n",
       "3        Internal   Solution 59 2011-04-28  Sector 20   Others  Ekta Zutshi   \n",
       "4        Internal   Solution 32 2011-06-03  Sector 20   Others  Ekta Zutshi   \n",
       "\n",
       "      Manager Name  Deal Cost Deal Status Code  Deal_Date_year  \\\n",
       "0  Gopa Trilochana  150000.00              Won            2012   \n",
       "1  Gopa Trilochana  744705.88              Won            2012   \n",
       "2   Russell Dahlen   60000.00             Lost            2011   \n",
       "3   Russell Dahlen   60000.00             Lost            2011   \n",
       "4   Russell Dahlen   80882.35             Lost            2011   \n",
       "\n",
       "   Deal_Date_month  Deal_Date_quarter  \n",
       "0                3                  1  \n",
       "1                9                  3  \n",
       "2                8                  3  \n",
       "3                4                  2  \n",
       "4                6                  2  "
      ]
     },
     "execution_count": 49,
     "metadata": {},
     "output_type": "execute_result"
    }
   ],
   "source": [
    "newdata.head()"
   ]
  },
  {
   "cell_type": "code",
   "execution_count": 50,
   "id": "5bf28d04",
   "metadata": {},
   "outputs": [
    {
     "data": {
      "text/plain": [
       "Others                   1842\n",
       "Internal                 1454\n",
       "Services_based           1202\n",
       "Tech                      913\n",
       "Domestic Public Bank      419\n",
       "International Bank        376\n",
       "Consulting                352\n",
       "Finance                   339\n",
       "Telecom                   327\n",
       "Power ind                 264\n",
       "Domestic Private Bank     262\n",
       "Insurance                 247\n",
       "Consumer Good             185\n",
       "Automobiles               178\n",
       "Infrastructure            152\n",
       "Domestic Bank             134\n",
       "Retail_market             126\n",
       "Govt                      121\n",
       "Hospitality               119\n",
       "Manufacturing             117\n",
       "Pharma                    110\n",
       "Healthcare                 99\n",
       "Electronics                81\n",
       "Media_Journal              71\n",
       "Industries                 66\n",
       "Research Development       63\n",
       "Energy                     57\n",
       "Knowledge                  50\n",
       "Management                 43\n",
       "Govt Bank Special          41\n",
       "Payment                    40\n",
       "Energy                     37\n",
       "e-commerce                 32\n",
       "Airpline                   27\n",
       "Holding                    25\n",
       "International Org          25\n",
       "Logistics                  20\n",
       "Real Estate                19\n",
       "Share_market               14\n",
       "Tax_audit                   7\n",
       "Medical                     5\n",
       "Name: Client Category, dtype: int64"
      ]
     },
     "execution_count": 50,
     "metadata": {},
     "output_type": "execute_result"
    }
   ],
   "source": [
    "newdata['Client Category'].value_counts()"
   ]
  },
  {
   "cell_type": "code",
   "execution_count": 53,
   "id": "82ea2809",
   "metadata": {},
   "outputs": [
    {
     "data": {
      "text/plain": [
       "Index(['Client Category', 'Solution Type', 'Sector', 'Location', 'VP Name',\n",
       "       'Manager Name', 'Deal Cost', 'Deal Status Code', 'Deal_Date_year',\n",
       "       'Deal_Date_month', 'Deal_Date_quarter'],\n",
       "      dtype='object')"
      ]
     },
     "execution_count": 53,
     "metadata": {},
     "output_type": "execute_result"
    }
   ],
   "source": [
    "newdata.columns"
   ]
  },
  {
   "cell_type": "code",
   "execution_count": 52,
   "id": "1d648c4b",
   "metadata": {},
   "outputs": [],
   "source": [
    "newdata = newdata.drop(['Deal Date'], axis=1)"
   ]
  },
  {
   "cell_type": "code",
   "execution_count": 54,
   "id": "98de1f32",
   "metadata": {},
   "outputs": [],
   "source": [
    "newdata['Client Category'] = newdata['Client Category'].astype('category')\n",
    "newdata['Client Category'] = newdata['Client Category'].cat.codes\n",
    "\n",
    "newdata['Solution Type'] = newdata['Solution Type'].astype('category')\n",
    "newdata['Solution Type'] = newdata['Solution Type'].cat.codes\n",
    "\n",
    "newdata['Sector'] = newdata['Sector'].astype('category')\n",
    "newdata['Sector'] = newdata['Sector'].cat.codes\n",
    "\n",
    "newdata['Location'] = newdata['Location'].astype('category')\n",
    "newdata['Location'] = newdata['Location'].cat.codes\n",
    "\n",
    "newdata['VP Name'] = newdata['VP Name'].astype('category')\n",
    "newdata['VP Name'] = newdata['VP Name'].cat.codes\n",
    "\n",
    "newdata['Manager Name'] = newdata['Manager Name'].astype('category')\n",
    "newdata['Manager Name'] = newdata['Manager Name'].cat.codes\n",
    "\n",
    "newdata['Deal Status Code'] = newdata['Deal Status Code'].astype('category')\n",
    "newdata['Deal Status Code'] = newdata['Deal Status Code'].cat.codes"
   ]
  },
  {
   "cell_type": "code",
   "execution_count": 55,
   "id": "8b98dd1b",
   "metadata": {},
   "outputs": [
    {
     "data": {
      "text/html": [
       "<div>\n",
       "<style scoped>\n",
       "    .dataframe tbody tr th:only-of-type {\n",
       "        vertical-align: middle;\n",
       "    }\n",
       "\n",
       "    .dataframe tbody tr th {\n",
       "        vertical-align: top;\n",
       "    }\n",
       "\n",
       "    .dataframe thead th {\n",
       "        text-align: right;\n",
       "    }\n",
       "</style>\n",
       "<table border=\"1\" class=\"dataframe\">\n",
       "  <thead>\n",
       "    <tr style=\"text-align: right;\">\n",
       "      <th></th>\n",
       "      <th>Client Category</th>\n",
       "      <th>Solution Type</th>\n",
       "      <th>Sector</th>\n",
       "      <th>Location</th>\n",
       "      <th>VP Name</th>\n",
       "      <th>Manager Name</th>\n",
       "      <th>Deal Cost</th>\n",
       "      <th>Deal Status Code</th>\n",
       "      <th>Deal_Date_year</th>\n",
       "      <th>Deal_Date_month</th>\n",
       "      <th>Deal_Date_quarter</th>\n",
       "    </tr>\n",
       "  </thead>\n",
       "  <tbody>\n",
       "    <tr>\n",
       "      <th>0</th>\n",
       "      <td>39</td>\n",
       "      <td>64</td>\n",
       "      <td>16</td>\n",
       "      <td>7</td>\n",
       "      <td>6</td>\n",
       "      <td>82</td>\n",
       "      <td>150000.00</td>\n",
       "      <td>1</td>\n",
       "      <td>2012</td>\n",
       "      <td>3</td>\n",
       "      <td>1</td>\n",
       "    </tr>\n",
       "    <tr>\n",
       "      <th>1</th>\n",
       "      <td>39</td>\n",
       "      <td>64</td>\n",
       "      <td>16</td>\n",
       "      <td>7</td>\n",
       "      <td>6</td>\n",
       "      <td>82</td>\n",
       "      <td>744705.88</td>\n",
       "      <td>1</td>\n",
       "      <td>2012</td>\n",
       "      <td>9</td>\n",
       "      <td>3</td>\n",
       "    </tr>\n",
       "    <tr>\n",
       "      <th>2</th>\n",
       "      <td>19</td>\n",
       "      <td>54</td>\n",
       "      <td>12</td>\n",
       "      <td>12</td>\n",
       "      <td>6</td>\n",
       "      <td>183</td>\n",
       "      <td>60000.00</td>\n",
       "      <td>0</td>\n",
       "      <td>2011</td>\n",
       "      <td>8</td>\n",
       "      <td>3</td>\n",
       "    </tr>\n",
       "    <tr>\n",
       "      <th>3</th>\n",
       "      <td>19</td>\n",
       "      <td>54</td>\n",
       "      <td>12</td>\n",
       "      <td>12</td>\n",
       "      <td>6</td>\n",
       "      <td>183</td>\n",
       "      <td>60000.00</td>\n",
       "      <td>0</td>\n",
       "      <td>2011</td>\n",
       "      <td>4</td>\n",
       "      <td>2</td>\n",
       "    </tr>\n",
       "    <tr>\n",
       "      <th>4</th>\n",
       "      <td>19</td>\n",
       "      <td>25</td>\n",
       "      <td>12</td>\n",
       "      <td>12</td>\n",
       "      <td>6</td>\n",
       "      <td>183</td>\n",
       "      <td>80882.35</td>\n",
       "      <td>0</td>\n",
       "      <td>2011</td>\n",
       "      <td>6</td>\n",
       "      <td>2</td>\n",
       "    </tr>\n",
       "  </tbody>\n",
       "</table>\n",
       "</div>"
      ],
      "text/plain": [
       "   Client Category  Solution Type  Sector  Location  VP Name  Manager Name  \\\n",
       "0               39             64      16         7        6            82   \n",
       "1               39             64      16         7        6            82   \n",
       "2               19             54      12        12        6           183   \n",
       "3               19             54      12        12        6           183   \n",
       "4               19             25      12        12        6           183   \n",
       "\n",
       "   Deal Cost  Deal Status Code  Deal_Date_year  Deal_Date_month  \\\n",
       "0  150000.00                 1            2012                3   \n",
       "1  744705.88                 1            2012                9   \n",
       "2   60000.00                 0            2011                8   \n",
       "3   60000.00                 0            2011                4   \n",
       "4   80882.35                 0            2011                6   \n",
       "\n",
       "   Deal_Date_quarter  \n",
       "0                  1  \n",
       "1                  3  \n",
       "2                  3  \n",
       "3                  2  \n",
       "4                  2  "
      ]
     },
     "execution_count": 55,
     "metadata": {},
     "output_type": "execute_result"
    }
   ],
   "source": [
    "newdata.head()"
   ]
  },
  {
   "cell_type": "code",
   "execution_count": 56,
   "id": "cf2d943f",
   "metadata": {},
   "outputs": [],
   "source": [
    "newdata = newdata.iloc[:,0:8]"
   ]
  },
  {
   "cell_type": "code",
   "execution_count": 57,
   "id": "b2196581",
   "metadata": {},
   "outputs": [
    {
     "data": {
      "text/html": [
       "<div>\n",
       "<style scoped>\n",
       "    .dataframe tbody tr th:only-of-type {\n",
       "        vertical-align: middle;\n",
       "    }\n",
       "\n",
       "    .dataframe tbody tr th {\n",
       "        vertical-align: top;\n",
       "    }\n",
       "\n",
       "    .dataframe thead th {\n",
       "        text-align: right;\n",
       "    }\n",
       "</style>\n",
       "<table border=\"1\" class=\"dataframe\">\n",
       "  <thead>\n",
       "    <tr style=\"text-align: right;\">\n",
       "      <th></th>\n",
       "      <th>Client Category</th>\n",
       "      <th>Solution Type</th>\n",
       "      <th>Sector</th>\n",
       "      <th>Location</th>\n",
       "      <th>VP Name</th>\n",
       "      <th>Manager Name</th>\n",
       "      <th>Deal Cost</th>\n",
       "      <th>Deal Status Code</th>\n",
       "    </tr>\n",
       "  </thead>\n",
       "  <tbody>\n",
       "    <tr>\n",
       "      <th>0</th>\n",
       "      <td>39</td>\n",
       "      <td>64</td>\n",
       "      <td>16</td>\n",
       "      <td>7</td>\n",
       "      <td>6</td>\n",
       "      <td>82</td>\n",
       "      <td>150000.00</td>\n",
       "      <td>1</td>\n",
       "    </tr>\n",
       "    <tr>\n",
       "      <th>1</th>\n",
       "      <td>39</td>\n",
       "      <td>64</td>\n",
       "      <td>16</td>\n",
       "      <td>7</td>\n",
       "      <td>6</td>\n",
       "      <td>82</td>\n",
       "      <td>744705.88</td>\n",
       "      <td>1</td>\n",
       "    </tr>\n",
       "    <tr>\n",
       "      <th>2</th>\n",
       "      <td>19</td>\n",
       "      <td>54</td>\n",
       "      <td>12</td>\n",
       "      <td>12</td>\n",
       "      <td>6</td>\n",
       "      <td>183</td>\n",
       "      <td>60000.00</td>\n",
       "      <td>0</td>\n",
       "    </tr>\n",
       "    <tr>\n",
       "      <th>3</th>\n",
       "      <td>19</td>\n",
       "      <td>54</td>\n",
       "      <td>12</td>\n",
       "      <td>12</td>\n",
       "      <td>6</td>\n",
       "      <td>183</td>\n",
       "      <td>60000.00</td>\n",
       "      <td>0</td>\n",
       "    </tr>\n",
       "    <tr>\n",
       "      <th>4</th>\n",
       "      <td>19</td>\n",
       "      <td>25</td>\n",
       "      <td>12</td>\n",
       "      <td>12</td>\n",
       "      <td>6</td>\n",
       "      <td>183</td>\n",
       "      <td>80882.35</td>\n",
       "      <td>0</td>\n",
       "    </tr>\n",
       "  </tbody>\n",
       "</table>\n",
       "</div>"
      ],
      "text/plain": [
       "   Client Category  Solution Type  Sector  Location  VP Name  Manager Name  \\\n",
       "0               39             64      16         7        6            82   \n",
       "1               39             64      16         7        6            82   \n",
       "2               19             54      12        12        6           183   \n",
       "3               19             54      12        12        6           183   \n",
       "4               19             25      12        12        6           183   \n",
       "\n",
       "   Deal Cost  Deal Status Code  \n",
       "0  150000.00                 1  \n",
       "1  744705.88                 1  \n",
       "2   60000.00                 0  \n",
       "3   60000.00                 0  \n",
       "4   80882.35                 0  "
      ]
     },
     "execution_count": 57,
     "metadata": {},
     "output_type": "execute_result"
    }
   ],
   "source": [
    "newdata.head()"
   ]
  },
  {
   "cell_type": "code",
   "execution_count": 60,
   "id": "4989f393",
   "metadata": {},
   "outputs": [],
   "source": [
    "# split the data into x and y\n",
    "x = newdata.iloc[:,0:-1].values\n",
    "y = newdata['Deal Status Code'].values"
   ]
  },
  {
   "cell_type": "code",
   "execution_count": 62,
   "id": "f532b0c2",
   "metadata": {},
   "outputs": [
    {
     "data": {
      "text/plain": [
       "array([[3.90000000e+01, 6.40000000e+01, 1.60000000e+01, ...,\n",
       "        6.00000000e+00, 8.20000000e+01, 1.50000000e+05],\n",
       "       [3.90000000e+01, 6.40000000e+01, 1.60000000e+01, ...,\n",
       "        6.00000000e+00, 8.20000000e+01, 7.44705880e+05],\n",
       "       [1.90000000e+01, 5.40000000e+01, 1.20000000e+01, ...,\n",
       "        6.00000000e+00, 1.83000000e+02, 6.00000000e+04],\n",
       "       ...,\n",
       "       [3.10000000e+01, 6.60000000e+01, 2.40000000e+01, ...,\n",
       "        2.90000000e+01, 1.82000000e+02, 5.88235290e+05],\n",
       "       [3.10000000e+01, 5.80000000e+01, 2.40000000e+01, ...,\n",
       "        1.90000000e+01, 5.00000000e+01, 3.04205882e+06],\n",
       "       [2.80000000e+01, 6.60000000e+01, 3.00000000e+00, ...,\n",
       "        3.40000000e+01, 2.16000000e+02, 1.47058820e+05]])"
      ]
     },
     "execution_count": 62,
     "metadata": {},
     "output_type": "execute_result"
    }
   ],
   "source": [
    "x"
   ]
  },
  {
   "cell_type": "code",
   "execution_count": 64,
   "id": "0274c0af",
   "metadata": {},
   "outputs": [],
   "source": [
    "from sklearn.preprocessing import StandardScaler\n",
    "sc = StandardScaler()\n",
    "x1 = sc.fit_transform(x)"
   ]
  },
  {
   "cell_type": "code",
   "execution_count": 65,
   "id": "075a1071",
   "metadata": {},
   "outputs": [
    {
     "data": {
      "text/plain": [
       "array([[ 1.40299487,  1.29765094,  0.78535088, ..., -1.11119992,\n",
       "        -0.71544412, -0.38084443],\n",
       "       [ 1.40299487,  1.29765094,  0.78535088, ..., -1.11119992,\n",
       "        -0.71544412, -0.01369972],\n",
       "       [-0.33339304,  0.86106354,  0.01663725, ..., -1.11119992,\n",
       "         0.60004268, -0.43640639],\n",
       "       ...,\n",
       "       [ 0.70843971,  1.38496843,  2.32277814, ...,  0.79154462,\n",
       "         0.58701806, -0.11029764],\n",
       "       [ 0.70843971,  1.0356985 ,  2.32277814, ..., -0.03573561,\n",
       "        -1.13223202,  1.40458284],\n",
       "       [ 0.44798152,  1.38496843, -1.71296842, ...,  1.20518474,\n",
       "         1.0298552 , -0.38266018]])"
      ]
     },
     "execution_count": 65,
     "metadata": {},
     "output_type": "execute_result"
    }
   ],
   "source": [
    "x1"
   ]
  },
  {
   "cell_type": "code",
   "execution_count": null,
   "id": "46590227",
   "metadata": {},
   "outputs": [],
   "source": []
  },
  {
   "cell_type": "code",
   "execution_count": 67,
   "id": "2c02f0e4",
   "metadata": {},
   "outputs": [],
   "source": [
    "# Split the data into training and test\n",
    "from sklearn.model_selection import train_test_split\n",
    "x_train, x_test, y_train, y_test = train_test_split(x1, y, train_size=0.70, random_state=101)"
   ]
  },
  {
   "cell_type": "markdown",
   "id": "64f8c291",
   "metadata": {},
   "source": [
    "# Deep Neural Network"
   ]
  },
  {
   "cell_type": "code",
   "execution_count": 68,
   "id": "18feb52e",
   "metadata": {},
   "outputs": [],
   "source": [
    "import tensorflow as tf\n",
    "from tensorflow import keras"
   ]
  },
  {
   "cell_type": "code",
   "execution_count": 69,
   "id": "7a5df6ee",
   "metadata": {},
   "outputs": [
    {
     "name": "stdout",
     "output_type": "stream",
     "text": [
      "Epoch 1/100\n",
      "221/221 [==============================] - 7s 4ms/step - loss: 0.6651 - accuracy: 0.6170\n",
      "Epoch 2/100\n",
      "221/221 [==============================] - 1s 4ms/step - loss: 0.6569 - accuracy: 0.6179\n",
      "Epoch 3/100\n",
      "221/221 [==============================] - 1s 4ms/step - loss: 0.6509 - accuracy: 0.6199\n",
      "Epoch 4/100\n",
      "221/221 [==============================] - 1s 4ms/step - loss: 0.6470 - accuracy: 0.6275\n",
      "Epoch 5/100\n",
      "221/221 [==============================] - 1s 4ms/step - loss: 0.6435 - accuracy: 0.6302\n",
      "Epoch 6/100\n",
      "221/221 [==============================] - 1s 4ms/step - loss: 0.6408 - accuracy: 0.6423\n",
      "Epoch 7/100\n",
      "221/221 [==============================] - 1s 4ms/step - loss: 0.6375 - accuracy: 0.6481\n",
      "Epoch 8/100\n",
      "221/221 [==============================] - 1s 4ms/step - loss: 0.6344 - accuracy: 0.6535\n",
      "Epoch 9/100\n",
      "221/221 [==============================] - 1s 4ms/step - loss: 0.6312 - accuracy: 0.6534\n",
      "Epoch 10/100\n",
      "221/221 [==============================] - 1s 4ms/step - loss: 0.6278 - accuracy: 0.6573\n",
      "Epoch 11/100\n",
      "221/221 [==============================] - 1s 4ms/step - loss: 0.6241 - accuracy: 0.6612\n",
      "Epoch 12/100\n",
      "221/221 [==============================] - 1s 4ms/step - loss: 0.6209 - accuracy: 0.6616\n",
      "Epoch 13/100\n",
      "221/221 [==============================] - 1s 5ms/step - loss: 0.6177 - accuracy: 0.6652\n",
      "Epoch 14/100\n",
      "221/221 [==============================] - 1s 5ms/step - loss: 0.6164 - accuracy: 0.6653\n",
      "Epoch 15/100\n",
      "221/221 [==============================] - 1s 4ms/step - loss: 0.6126 - accuracy: 0.6708\n",
      "Epoch 16/100\n",
      "221/221 [==============================] - 1s 5ms/step - loss: 0.6109 - accuracy: 0.6680\n",
      "Epoch 17/100\n",
      "221/221 [==============================] - 1s 5ms/step - loss: 0.6077 - accuracy: 0.6741\n",
      "Epoch 18/100\n",
      "221/221 [==============================] - 1s 5ms/step - loss: 0.6057 - accuracy: 0.6745\n",
      "Epoch 19/100\n",
      "221/221 [==============================] - 1s 4ms/step - loss: 0.6044 - accuracy: 0.6755\n",
      "Epoch 20/100\n",
      "221/221 [==============================] - 1s 4ms/step - loss: 0.6010 - accuracy: 0.6775\n",
      "Epoch 21/100\n",
      "221/221 [==============================] - 1s 4ms/step - loss: 0.6000 - accuracy: 0.6811\n",
      "Epoch 22/100\n",
      "221/221 [==============================] - 1s 5ms/step - loss: 0.5981 - accuracy: 0.6823\n",
      "Epoch 23/100\n",
      "221/221 [==============================] - 1s 4ms/step - loss: 0.5964 - accuracy: 0.6869\n",
      "Epoch 24/100\n",
      "221/221 [==============================] - 1s 6ms/step - loss: 0.5946 - accuracy: 0.6873\n",
      "Epoch 25/100\n",
      "221/221 [==============================] - 1s 4ms/step - loss: 0.5944 - accuracy: 0.6843\n",
      "Epoch 26/100\n",
      "221/221 [==============================] - 1s 4ms/step - loss: 0.5921 - accuracy: 0.6887\n",
      "Epoch 27/100\n",
      "221/221 [==============================] - 1s 4ms/step - loss: 0.5889 - accuracy: 0.6931\n",
      "Epoch 28/100\n",
      "221/221 [==============================] - 1s 4ms/step - loss: 0.5885 - accuracy: 0.6950\n",
      "Epoch 29/100\n",
      "221/221 [==============================] - 1s 5ms/step - loss: 0.5868 - accuracy: 0.6916\n",
      "Epoch 30/100\n",
      "221/221 [==============================] - 1s 5ms/step - loss: 0.5848 - accuracy: 0.6927\n",
      "Epoch 31/100\n",
      "221/221 [==============================] - 1s 4ms/step - loss: 0.5863 - accuracy: 0.6909\n",
      "Epoch 32/100\n",
      "221/221 [==============================] - 1s 4ms/step - loss: 0.5821 - accuracy: 0.6945\n",
      "Epoch 33/100\n",
      "221/221 [==============================] - 1s 4ms/step - loss: 0.5815 - accuracy: 0.6964\n",
      "Epoch 34/100\n",
      "221/221 [==============================] - 1s 4ms/step - loss: 0.5798 - accuracy: 0.6991\n",
      "Epoch 35/100\n",
      "221/221 [==============================] - 1s 6ms/step - loss: 0.5780 - accuracy: 0.7005\n",
      "Epoch 36/100\n",
      "221/221 [==============================] - 1s 4ms/step - loss: 0.5775 - accuracy: 0.7011\n",
      "Epoch 37/100\n",
      "221/221 [==============================] - 1s 4ms/step - loss: 0.5757 - accuracy: 0.7036\n",
      "Epoch 38/100\n",
      "221/221 [==============================] - 1s 4ms/step - loss: 0.5741 - accuracy: 0.7053\n",
      "Epoch 39/100\n",
      "221/221 [==============================] - 1s 4ms/step - loss: 0.5747 - accuracy: 0.7056\n",
      "Epoch 40/100\n",
      "221/221 [==============================] - 1s 4ms/step - loss: 0.5729 - accuracy: 0.7039\n",
      "Epoch 41/100\n",
      "221/221 [==============================] - 1s 4ms/step - loss: 0.5721 - accuracy: 0.7085\n",
      "Epoch 42/100\n",
      "221/221 [==============================] - 1s 5ms/step - loss: 0.5699 - accuracy: 0.7049\n",
      "Epoch 43/100\n",
      "221/221 [==============================] - 1s 4ms/step - loss: 0.5673 - accuracy: 0.7089\n",
      "Epoch 44/100\n",
      "221/221 [==============================] - 1s 4ms/step - loss: 0.5729 - accuracy: 0.7019\n",
      "Epoch 45/100\n",
      "221/221 [==============================] - 1s 4ms/step - loss: 0.5670 - accuracy: 0.7114\n",
      "Epoch 46/100\n",
      "221/221 [==============================] - 1s 4ms/step - loss: 0.5656 - accuracy: 0.7079\n",
      "Epoch 47/100\n",
      "221/221 [==============================] - 1s 4ms/step - loss: 0.5643 - accuracy: 0.7100\n",
      "Epoch 48/100\n",
      "221/221 [==============================] - 1s 4ms/step - loss: 0.5637 - accuracy: 0.7109\n",
      "Epoch 49/100\n",
      "221/221 [==============================] - 1s 4ms/step - loss: 0.5619 - accuracy: 0.7160\n",
      "Epoch 50/100\n",
      "221/221 [==============================] - 1s 4ms/step - loss: 0.5612 - accuracy: 0.7147\n",
      "Epoch 51/100\n",
      "221/221 [==============================] - 1s 4ms/step - loss: 0.5601 - accuracy: 0.7177\n",
      "Epoch 52/100\n",
      "221/221 [==============================] - 1s 4ms/step - loss: 0.5601 - accuracy: 0.7170\n",
      "Epoch 53/100\n",
      "221/221 [==============================] - 1s 4ms/step - loss: 0.5584 - accuracy: 0.7178\n",
      "Epoch 54/100\n",
      "221/221 [==============================] - 1s 5ms/step - loss: 0.5606 - accuracy: 0.7117\n",
      "Epoch 55/100\n",
      "221/221 [==============================] - 1s 6ms/step - loss: 0.5549 - accuracy: 0.7176\n",
      "Epoch 56/100\n",
      "221/221 [==============================] - 1s 6ms/step - loss: 0.5544 - accuracy: 0.7171\n",
      "Epoch 57/100\n",
      "221/221 [==============================] - 1s 5ms/step - loss: 0.5531 - accuracy: 0.7166\n",
      "Epoch 58/100\n",
      "221/221 [==============================] - 1s 5ms/step - loss: 0.5532 - accuracy: 0.7201\n",
      "Epoch 59/100\n",
      "221/221 [==============================] - 1s 4ms/step - loss: 0.5546 - accuracy: 0.7188\n",
      "Epoch 60/100\n",
      "221/221 [==============================] - 1s 4ms/step - loss: 0.5500 - accuracy: 0.7212\n",
      "Epoch 61/100\n",
      "221/221 [==============================] - 1s 4ms/step - loss: 0.5489 - accuracy: 0.7283\n",
      "Epoch 62/100\n",
      "221/221 [==============================] - 1s 4ms/step - loss: 0.5510 - accuracy: 0.7197\n",
      "Epoch 63/100\n",
      "221/221 [==============================] - 1s 4ms/step - loss: 0.5496 - accuracy: 0.7227\n",
      "Epoch 64/100\n",
      "221/221 [==============================] - 1s 4ms/step - loss: 0.5460 - accuracy: 0.7261\n",
      "Epoch 65/100\n",
      "221/221 [==============================] - 1s 4ms/step - loss: 0.5458 - accuracy: 0.7283\n",
      "Epoch 66/100\n",
      "221/221 [==============================] - 1s 4ms/step - loss: 0.5445 - accuracy: 0.7279\n",
      "Epoch 67/100\n",
      "221/221 [==============================] - 1s 4ms/step - loss: 0.5446 - accuracy: 0.7271\n",
      "Epoch 68/100\n",
      "221/221 [==============================] - 1s 4ms/step - loss: 0.5423 - accuracy: 0.7259\n",
      "Epoch 69/100\n",
      "221/221 [==============================] - 1s 4ms/step - loss: 0.5419 - accuracy: 0.7286\n",
      "Epoch 70/100\n",
      "221/221 [==============================] - 1s 4ms/step - loss: 0.5414 - accuracy: 0.7282\n",
      "Epoch 71/100\n",
      "221/221 [==============================] - 1s 4ms/step - loss: 0.5415 - accuracy: 0.7285\n",
      "Epoch 72/100\n",
      "221/221 [==============================] - 1s 4ms/step - loss: 0.5400 - accuracy: 0.7303\n",
      "Epoch 73/100\n",
      "221/221 [==============================] - 1s 4ms/step - loss: 0.5370 - accuracy: 0.7336\n",
      "Epoch 74/100\n",
      "221/221 [==============================] - 1s 4ms/step - loss: 0.5370 - accuracy: 0.7312\n",
      "Epoch 75/100\n",
      "221/221 [==============================] - 1s 4ms/step - loss: 0.5356 - accuracy: 0.7353\n",
      "Epoch 76/100\n",
      "221/221 [==============================] - 1s 4ms/step - loss: 0.5366 - accuracy: 0.7322\n",
      "Epoch 77/100\n",
      "221/221 [==============================] - 1s 4ms/step - loss: 0.5352 - accuracy: 0.7333\n",
      "Epoch 78/100\n",
      "221/221 [==============================] - 1s 4ms/step - loss: 0.5377 - accuracy: 0.7318\n",
      "Epoch 79/100\n",
      "221/221 [==============================] - 1s 4ms/step - loss: 0.5345 - accuracy: 0.7343\n",
      "Epoch 80/100\n",
      "221/221 [==============================] - 1s 4ms/step - loss: 0.5318 - accuracy: 0.7374\n",
      "Epoch 81/100\n",
      "221/221 [==============================] - 1s 4ms/step - loss: 0.5331 - accuracy: 0.7342\n",
      "Epoch 82/100\n",
      "221/221 [==============================] - 1s 4ms/step - loss: 0.5297 - accuracy: 0.7371\n",
      "Epoch 83/100\n",
      "221/221 [==============================] - 1s 4ms/step - loss: 0.5306 - accuracy: 0.7423\n",
      "Epoch 84/100\n",
      "221/221 [==============================] - 1s 4ms/step - loss: 0.5336 - accuracy: 0.7370\n",
      "Epoch 85/100\n",
      "221/221 [==============================] - 1s 4ms/step - loss: 0.5268 - accuracy: 0.7369\n",
      "Epoch 86/100\n",
      "221/221 [==============================] - 1s 4ms/step - loss: 0.5274 - accuracy: 0.7384\n",
      "Epoch 87/100\n",
      "221/221 [==============================] - 1s 4ms/step - loss: 0.5306 - accuracy: 0.7403\n",
      "Epoch 88/100\n",
      "221/221 [==============================] - 1s 4ms/step - loss: 0.5258 - accuracy: 0.7421\n",
      "Epoch 89/100\n",
      "221/221 [==============================] - 1s 4ms/step - loss: 0.5243 - accuracy: 0.7428\n",
      "Epoch 90/100\n",
      "221/221 [==============================] - 1s 4ms/step - loss: 0.5251 - accuracy: 0.7401\n",
      "Epoch 91/100\n",
      "221/221 [==============================] - 1s 5ms/step - loss: 0.5240 - accuracy: 0.7461\n",
      "Epoch 92/100\n",
      "221/221 [==============================] - 1s 5ms/step - loss: 0.5214 - accuracy: 0.7413\n",
      "Epoch 93/100\n",
      "221/221 [==============================] - 1s 5ms/step - loss: 0.5253 - accuracy: 0.7404\n",
      "Epoch 94/100\n",
      "221/221 [==============================] - 1s 5ms/step - loss: 0.5211 - accuracy: 0.7418\n",
      "Epoch 95/100\n",
      "221/221 [==============================] - 1s 5ms/step - loss: 0.5213 - accuracy: 0.7389\n",
      "Epoch 96/100\n",
      "221/221 [==============================] - 1s 5ms/step - loss: 0.5181 - accuracy: 0.7464\n",
      "Epoch 97/100\n",
      "221/221 [==============================] - 1s 4ms/step - loss: 0.5183 - accuracy: 0.7451\n",
      "Epoch 98/100\n",
      "221/221 [==============================] - 1s 4ms/step - loss: 0.5204 - accuracy: 0.7431\n",
      "Epoch 99/100\n",
      "221/221 [==============================] - 1s 5ms/step - loss: 0.5146 - accuracy: 0.7485\n",
      "Epoch 100/100\n",
      "221/221 [==============================] - 1s 4ms/step - loss: 0.5175 - accuracy: 0.7417\n"
     ]
    },
    {
     "data": {
      "text/plain": [
       "<keras.callbacks.History at 0x15f99c47df0>"
      ]
     },
     "execution_count": 69,
     "metadata": {},
     "output_type": "execute_result"
    }
   ],
   "source": [
    "# Architecture - Sequential / Functional\n",
    "\n",
    "dnn = tf.keras.models.Sequential()\n",
    "dnn.add(tf.keras.layers.Dense(units=20, activation='relu'))\n",
    "dnn.add(tf.keras.layers.Dense(units=20, activation='relu'))\n",
    "dnn.add(tf.keras.layers.Dense(units=20, activation='relu'))\n",
    "dnn.add(tf.keras.layers.Dense(units=20, activation='relu'))\n",
    "dnn.add(tf.keras.layers.Dense(units=1, activation='sigmoid'))\n",
    "dnn.compile(optimizer='adam', loss='binary_crossentropy',metrics=['accuracy'])\n",
    "dnn.fit(x_train, y_train, batch_size=32, epochs=100)"
   ]
  },
  {
   "cell_type": "code",
   "execution_count": 70,
   "id": "08bc73df",
   "metadata": {},
   "outputs": [
    {
     "name": "stdout",
     "output_type": "stream",
     "text": [
      "Epoch 1/25\n",
      "221/221 [==============================] - 0s 2ms/step - loss: 0.5177 - accuracy: 0.7467\n",
      "Epoch 2/25\n",
      "221/221 [==============================] - 0s 2ms/step - loss: 0.5169 - accuracy: 0.7420\n",
      "Epoch 3/25\n",
      "221/221 [==============================] - 1s 3ms/step - loss: 0.5133 - accuracy: 0.7448\n",
      "Epoch 4/25\n",
      "221/221 [==============================] - 1s 4ms/step - loss: 0.5134 - accuracy: 0.7441\n",
      "Epoch 5/25\n",
      "221/221 [==============================] - 1s 4ms/step - loss: 0.5174 - accuracy: 0.7423\n",
      "Epoch 6/25\n",
      "221/221 [==============================] - 1s 4ms/step - loss: 0.5127 - accuracy: 0.7479\n",
      "Epoch 7/25\n",
      "221/221 [==============================] - 1s 4ms/step - loss: 0.5127 - accuracy: 0.7440\n",
      "Epoch 8/25\n",
      "221/221 [==============================] - 1s 4ms/step - loss: 0.5128 - accuracy: 0.7467\n",
      "Epoch 9/25\n",
      "221/221 [==============================] - 1s 4ms/step - loss: 0.5117 - accuracy: 0.7495\n",
      "Epoch 10/25\n",
      "221/221 [==============================] - 1s 4ms/step - loss: 0.5077 - accuracy: 0.7488\n",
      "Epoch 11/25\n",
      "221/221 [==============================] - 1s 4ms/step - loss: 0.5111 - accuracy: 0.7495\n",
      "Epoch 12/25\n",
      "221/221 [==============================] - 1s 4ms/step - loss: 0.5079 - accuracy: 0.7495\n",
      "Epoch 13/25\n",
      "221/221 [==============================] - 1s 4ms/step - loss: 0.5100 - accuracy: 0.7509\n",
      "Epoch 14/25\n",
      "221/221 [==============================] - 1s 4ms/step - loss: 0.5083 - accuracy: 0.7474\n",
      "Epoch 15/25\n",
      "221/221 [==============================] - 1s 4ms/step - loss: 0.5077 - accuracy: 0.7509\n",
      "Epoch 16/25\n",
      "221/221 [==============================] - 1s 5ms/step - loss: 0.5102 - accuracy: 0.7479\n",
      "Epoch 17/25\n",
      "221/221 [==============================] - 1s 4ms/step - loss: 0.5081 - accuracy: 0.7491\n",
      "Epoch 18/25\n",
      "221/221 [==============================] - 1s 4ms/step - loss: 0.5052 - accuracy: 0.7481\n",
      "Epoch 19/25\n",
      "221/221 [==============================] - 1s 4ms/step - loss: 0.5067 - accuracy: 0.7495\n",
      "Epoch 20/25\n",
      "221/221 [==============================] - 1s 5ms/step - loss: 0.5052 - accuracy: 0.7495\n",
      "Epoch 21/25\n",
      "221/221 [==============================] - 1s 4ms/step - loss: 0.5047 - accuracy: 0.7488\n",
      "Epoch 22/25\n",
      "221/221 [==============================] - 1s 4ms/step - loss: 0.5072 - accuracy: 0.7474\n",
      "Epoch 23/25\n",
      "221/221 [==============================] - 1s 4ms/step - loss: 0.5028 - accuracy: 0.7525\n",
      "Epoch 24/25\n",
      "221/221 [==============================] - 1s 4ms/step - loss: 0.5058 - accuracy: 0.7518\n",
      "Epoch 25/25\n",
      "221/221 [==============================] - 1s 4ms/step - loss: 0.5025 - accuracy: 0.7495\n"
     ]
    },
    {
     "data": {
      "text/plain": [
       "<keras.callbacks.History at 0x15f9b227d30>"
      ]
     },
     "execution_count": 70,
     "metadata": {},
     "output_type": "execute_result"
    }
   ],
   "source": [
    "dnn.fit(x_train, y_train, batch_size=32, epochs=25)"
   ]
  },
  {
   "cell_type": "code",
   "execution_count": 71,
   "id": "2543ca52",
   "metadata": {},
   "outputs": [
    {
     "name": "stdout",
     "output_type": "stream",
     "text": [
      "95/95 [==============================] - 0s 1ms/step\n"
     ]
    },
    {
     "data": {
      "text/plain": [
       "array([[False],\n",
       "       [ True],\n",
       "       [False],\n",
       "       ...,\n",
       "       [ True],\n",
       "       [False],\n",
       "       [False]])"
      ]
     },
     "execution_count": 71,
     "metadata": {},
     "output_type": "execute_result"
    }
   ],
   "source": [
    "y_pred = dnn.predict(x_test)\n",
    "y_pred = (y_pred>0.5)\n",
    "y_pred"
   ]
  },
  {
   "cell_type": "code",
   "execution_count": 72,
   "id": "f765ebcb",
   "metadata": {},
   "outputs": [],
   "source": [
    "from sklearn.metrics import confusion_matrix, classification_report, accuracy_score"
   ]
  },
  {
   "cell_type": "code",
   "execution_count": 73,
   "id": "e45f7d14",
   "metadata": {},
   "outputs": [
    {
     "name": "stdout",
     "output_type": "stream",
     "text": [
      "[[1583  372]\n",
      " [ 630  434]]\n"
     ]
    }
   ],
   "source": [
    "print(confusion_matrix(y_test, y_pred))"
   ]
  },
  {
   "cell_type": "code",
   "execution_count": 74,
   "id": "cfc67469",
   "metadata": {},
   "outputs": [
    {
     "name": "stdout",
     "output_type": "stream",
     "text": [
      "              precision    recall  f1-score   support\n",
      "\n",
      "           0       0.72      0.81      0.76      1955\n",
      "           1       0.54      0.41      0.46      1064\n",
      "\n",
      "    accuracy                           0.67      3019\n",
      "   macro avg       0.63      0.61      0.61      3019\n",
      "weighted avg       0.65      0.67      0.66      3019\n",
      "\n"
     ]
    }
   ],
   "source": [
    "print(classification_report(y_test, y_pred))"
   ]
  },
  {
   "cell_type": "code",
   "execution_count": 75,
   "id": "738779e9",
   "metadata": {},
   "outputs": [
    {
     "name": "stdout",
     "output_type": "stream",
     "text": [
      "0.6681020205366015\n"
     ]
    }
   ],
   "source": [
    "print(accuracy_score(y_test, y_pred))"
   ]
  },
  {
   "cell_type": "code",
   "execution_count": null,
   "id": "3948ccd3",
   "metadata": {},
   "outputs": [],
   "source": []
  },
  {
   "cell_type": "code",
   "execution_count": null,
   "id": "c73524e1",
   "metadata": {},
   "outputs": [],
   "source": []
  },
  {
   "cell_type": "code",
   "execution_count": null,
   "id": "1b27d604",
   "metadata": {},
   "outputs": [],
   "source": []
  },
  {
   "cell_type": "code",
   "execution_count": null,
   "id": "625f1a26",
   "metadata": {},
   "outputs": [],
   "source": []
  },
  {
   "cell_type": "code",
   "execution_count": null,
   "id": "5ad41199",
   "metadata": {},
   "outputs": [],
   "source": []
  },
  {
   "cell_type": "code",
   "execution_count": null,
   "id": "8dace5d4",
   "metadata": {},
   "outputs": [],
   "source": []
  },
  {
   "cell_type": "code",
   "execution_count": null,
   "id": "87ab872e",
   "metadata": {},
   "outputs": [],
   "source": []
  },
  {
   "cell_type": "code",
   "execution_count": null,
   "id": "6df47590",
   "metadata": {},
   "outputs": [],
   "source": []
  }
 ],
 "metadata": {
  "kernelspec": {
   "display_name": "Python 3 (ipykernel)",
   "language": "python",
   "name": "python3"
  },
  "language_info": {
   "codemirror_mode": {
    "name": "ipython",
    "version": 3
   },
   "file_extension": ".py",
   "mimetype": "text/x-python",
   "name": "python",
   "nbconvert_exporter": "python",
   "pygments_lexer": "ipython3",
   "version": "3.12.3"
  }
 },
 "nbformat": 4,
 "nbformat_minor": 5
}
