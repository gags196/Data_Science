{
 "cells": [
  {
   "cell_type": "code",
   "execution_count": 1,
   "id": "0111b4eb",
   "metadata": {
    "ExecuteTime": {
     "end_time": "2024-12-07T13:59:18.504310Z",
     "start_time": "2024-12-07T13:59:02.896423Z"
    },
    "collapsed": true
   },
   "outputs": [
    {
     "name": "stdout",
     "output_type": "stream",
     "text": [
      "3\n",
      "4\n",
      "5\n",
      "5\n",
      "[[0, 0, 0], [0, 0, 1], [0, 0, 2], [0, 0, 3], [0, 0, 4], [0, 1, 0], [0, 1, 1], [0, 1, 2], [0, 1, 3], [0, 1, 5], [0, 2, 0], [0, 2, 1], [0, 2, 2], [0, 2, 4], [0, 2, 5], [0, 3, 0], [0, 3, 1], [0, 3, 3], [0, 3, 4], [0, 3, 5], [0, 4, 0], [0, 4, 2], [0, 4, 3], [0, 4, 4], [0, 4, 5], [1, 0, 0], [1, 0, 1], [1, 0, 2], [1, 0, 3], [1, 0, 5], [1, 1, 0], [1, 1, 1], [1, 1, 2], [1, 1, 4], [1, 1, 5], [1, 2, 0], [1, 2, 1], [1, 2, 3], [1, 2, 4], [1, 2, 5], [1, 3, 0], [1, 3, 2], [1, 3, 3], [1, 3, 4], [1, 3, 5], [1, 4, 1], [1, 4, 2], [1, 4, 3], [1, 4, 4], [1, 4, 5], [2, 0, 0], [2, 0, 1], [2, 0, 2], [2, 0, 4], [2, 0, 5], [2, 1, 0], [2, 1, 1], [2, 1, 3], [2, 1, 4], [2, 1, 5], [2, 2, 0], [2, 2, 2], [2, 2, 3], [2, 2, 4], [2, 2, 5], [2, 3, 1], [2, 3, 2], [2, 3, 3], [2, 3, 4], [2, 3, 5], [2, 4, 0], [2, 4, 1], [2, 4, 2], [2, 4, 3], [2, 4, 4], [2, 4, 5], [3, 0, 0], [3, 0, 1], [3, 0, 3], [3, 0, 4], [3, 0, 5], [3, 1, 0], [3, 1, 2], [3, 1, 3], [3, 1, 4], [3, 1, 5], [3, 2, 1], [3, 2, 2], [3, 2, 3], [3, 2, 4], [3, 2, 5], [3, 3, 0], [3, 3, 1], [3, 3, 2], [3, 3, 3], [3, 3, 4], [3, 3, 5], [3, 4, 0], [3, 4, 1], [3, 4, 2], [3, 4, 3], [3, 4, 4], [3, 4, 5]]\n"
     ]
    }
   ],
   "source": [
    "#list comprehension\n",
    "\n",
    "x = int(input())\n",
    "y = int(input())\n",
    "z = int(input())\n",
    "n = int(input())\n",
    "\n",
    "my_lst = [[i, j, k] for i in range(x + 1) for j in range(y + 1) for k in range(z + 1) if i + j + k != n]\n",
    "\n",
    "print(my_lst)\n"
   ]
  },
  {
   "cell_type": "code",
   "execution_count": null,
   "id": "9fdd3cff",
   "metadata": {},
   "outputs": [],
   "source": [
    "n = int(input())\n",
    "arr = map(int, input().split())\n",
    "my_lst = list(arr)\n",
    "maxim = max(my_lst)\n",
    "for i in range(n):\n",
    "    if max(my_lst) == maxim:\n",
    "        my_lst.remove(maxim)\n",
    "    \n",
    "print(max(my_lst))\n"
   ]
  },
  {
   "cell_type": "code",
   "execution_count": null,
   "id": "8ebc4c50",
   "metadata": {},
   "outputs": [],
   "source": [
    "# code find and print the names of students with the second-lowest scores in a given list\n",
    "n = int(input())\n",
    "my_lst = []\n",
    "\n",
    "if 2 <= n <= 5:\n",
    "    for _ in range(n):\n",
    "        name = input()\n",
    "        score = float(input())\n",
    "        my_lst.append([name, score])\n",
    "\n",
    "    scores = [x[1] for x in my_lst]\n",
    "    min_score = min(scores)\n",
    "\n",
    "    filtered_list = [x for x in my_lst if x[1] != min_score]\n",
    "    if filtered_list:\n",
    "        second_min_score = min(x[1] for x in filtered_list)\n",
    "\n",
    "    name_lst = sorted(x[0] for x in filtered_list if x[1] == second_min_score)\n",
    "\n",
    "    for name in name_lst:\n",
    "        print(name)\n"
   ]
  },
  {
   "cell_type": "code",
   "execution_count": null,
   "id": "40db674f",
   "metadata": {},
   "outputs": [],
   "source": [
    "# program to process student names and their marks\n",
    "n = int(input())\n",
    "if 2 <= n <= 10:\n",
    "    student_marks = {}\n",
    "    for _ in range(n):\n",
    "        name, *scores = input().split()\n",
    "        scores = list(map(float, scores))\n",
    "        if len(scores) != 3 or not all(0 <= score <= 100 for score in scores):\n",
    "            print(\"Invalid input: Enter exactly 3 scores between 0 and 100.\")\n",
    "            break\n",
    "        student_marks[name] = scores\n",
    "    else:  # This executes only if the loop wasn't broken\n",
    "        query_name = input()\n",
    "        if query_name in student_marks:\n",
    "            avg = sum(student_marks[query_name]) / 3\n",
    "            print(f\"{avg:.2f}\")\n",
    "        else:\n",
    "            print(\"Student not found.\")"
   ]
  },
  {
   "cell_type": "code",
   "execution_count": null,
   "id": "6293ce73",
   "metadata": {},
   "outputs": [],
   "source": [
    "# Based on the operation input by used code gives the output\n",
    "from copy import deepcopy\n",
    "\n",
    "N = int(input())\n",
    "my_lst = []\n",
    "out_lst = []\n",
    "\n",
    "for _ in range(N):\n",
    "    cmd = input().strip().split()\n",
    "    if cmd[0] == 'insert':\n",
    "        my_lst.insert(int(cmd[1]),int(cmd[2]))        \n",
    "    elif cmd[0] == 'print':\n",
    "        out_lst.append(deepcopy(my_lst))\n",
    "    elif cmd[0] == 'remove':\n",
    "        my_lst.remove(int(cmd[1]))\n",
    "    elif cmd[0] == 'append':\n",
    "        my_lst.append(int(cmd[1]))\n",
    "    elif cmd[0] == 'sort':\n",
    "        my_lst.sort()\n",
    "    elif cmd[0] == 'pop':\n",
    "        my_lst.pop()\n",
    "    elif cmd[0] == 'reverse':\n",
    "        my_lst.reverse()\n",
    "        \n",
    "for i in range(len(out_lst)):\n",
    "    print(out_lst[i])\n",
    "\n"
   ]
  },
  {
   "cell_type": "code",
   "execution_count": null,
   "id": "b45320f6",
   "metadata": {},
   "outputs": [],
   "source": []
  }
 ],
 "metadata": {
  "kernelspec": {
   "display_name": "Python 3 (ipykernel)",
   "language": "python",
   "name": "python3"
  },
  "language_info": {
   "codemirror_mode": {
    "name": "ipython",
    "version": 3
   },
   "file_extension": ".py",
   "mimetype": "text/x-python",
   "name": "python",
   "nbconvert_exporter": "python",
   "pygments_lexer": "ipython3",
   "version": "3.12.3"
  }
 },
 "nbformat": 4,
 "nbformat_minor": 5
}
